{
 "cells": [
  {
   "cell_type": "markdown",
   "metadata": {},
   "source": [
    "# Building the Full Graph"
   ]
  },
  {
   "cell_type": "code",
   "execution_count": 1,
   "metadata": {},
   "outputs": [],
   "source": [
    "# Models\n",
    "import spacy\n",
    "from spacy import displacy\n",
    "import en_coref_lg\n",
    "import networkx as nx\n",
    "\n",
    "# Data Wrangling\n",
    "import pandas as pd\n",
    "import csv\n",
    "import dill as pickle\n",
    "import helpers.data as data_helper\n",
    "import helpers.graph_generator as graph_generator\n",
    "\n",
    "# Utils\n",
    "import time\n",
    "from graphviz import Source\n",
    "from tqdm import tqdm\n",
    "from importlib import reload"
   ]
  },
  {
   "cell_type": "code",
   "execution_count": 2,
   "metadata": {},
   "outputs": [
    {
     "name": "stdout",
     "output_type": "stream",
     "text": [
      "LP_NET_Graphs.pkl\tentities.pkl\t\t       sentences.pkl\r\n",
      "NET_Graphs.pkl\t\tentity_ids.pkl\t\t       test_document_ids.pkl\r\n",
      "dev_document_ids.pkl\tname_entity.csv\t\t       train_document_ids.pkl\r\n",
      "document.csv\t\tparsed_sentences.20181205.pkl  trial_graph.pkl\r\n",
      "documents.20181205.pkl\tsentence.csv\t\t       www.glozman.com\r\n",
      "documents.pkl\t\tsentences-coref.pkl\r\n",
      "download.sh\t\tsentences.20181205.pkl\r\n"
     ]
    }
   ],
   "source": [
    "! ls ../data"
   ]
  },
  {
   "cell_type": "code",
   "execution_count": 3,
   "metadata": {},
   "outputs": [
    {
     "data": {
      "text/html": [
       "<div>\n",
       "<style scoped>\n",
       "    .dataframe tbody tr th:only-of-type {\n",
       "        vertical-align: middle;\n",
       "    }\n",
       "\n",
       "    .dataframe tbody tr th {\n",
       "        vertical-align: top;\n",
       "    }\n",
       "\n",
       "    .dataframe thead th {\n",
       "        text-align: right;\n",
       "    }\n",
       "</style>\n",
       "<table border=\"1\" class=\"dataframe\">\n",
       "  <thead>\n",
       "    <tr style=\"text-align: right;\">\n",
       "      <th></th>\n",
       "      <th>document</th>\n",
       "    </tr>\n",
       "    <tr>\n",
       "      <th>document_id</th>\n",
       "      <th></th>\n",
       "    </tr>\n",
       "  </thead>\n",
       "  <tbody>\n",
       "    <tr>\n",
       "      <th>bc/cctv/00/cctv_0000@0000@cctv@bc@en@on</th>\n",
       "      <td>In the summer of 2005 , a picture that people ...</td>\n",
       "    </tr>\n",
       "    <tr>\n",
       "      <th>bc/cctv/00/cctv_0001@0001@cctv@bc@en@on</th>\n",
       "      <td>What kind of memory ? We respectfully invite y...</td>\n",
       "    </tr>\n",
       "    <tr>\n",
       "      <th>bc/cctv/00/cctv_0002@0002@cctv@bc@en@on</th>\n",
       "      <td>Abramov had a car accident in Moscow last nigh...</td>\n",
       "    </tr>\n",
       "    <tr>\n",
       "      <th>bc/cctv/00/cctv_0003@0003@cctv@bc@en@on</th>\n",
       "      <td>Hello , dear viewers . Welcome to Focus Today ...</td>\n",
       "    </tr>\n",
       "    <tr>\n",
       "      <th>bc/cctv/00/cctv_0004@0004@cctv@bc@en@on</th>\n",
       "      <td>There will be 120 million viewers tuning in to...</td>\n",
       "    </tr>\n",
       "  </tbody>\n",
       "</table>\n",
       "</div>"
      ],
      "text/plain": [
       "                                                                                  document\n",
       "document_id                                                                               \n",
       "bc/cctv/00/cctv_0000@0000@cctv@bc@en@on  In the summer of 2005 , a picture that people ...\n",
       "bc/cctv/00/cctv_0001@0001@cctv@bc@en@on  What kind of memory ? We respectfully invite y...\n",
       "bc/cctv/00/cctv_0002@0002@cctv@bc@en@on  Abramov had a car accident in Moscow last nigh...\n",
       "bc/cctv/00/cctv_0003@0003@cctv@bc@en@on  Hello , dear viewers . Welcome to Focus Today ...\n",
       "bc/cctv/00/cctv_0004@0004@cctv@bc@en@on  There will be 120 million viewers tuning in to..."
      ]
     },
     "metadata": {},
     "output_type": "display_data"
    },
    {
     "name": "stdout",
     "output_type": "stream",
     "text": [
      "CPU times: user 207 ms, sys: 51.7 ms, total: 259 ms\n",
      "Wall time: 254 ms\n"
     ]
    }
   ],
   "source": [
    "%%time\n",
    "\n",
    "documents = data_helper.get_documents()\n",
    "display(documents.head())"
   ]
  },
  {
   "cell_type": "code",
   "execution_count": 4,
   "metadata": {},
   "outputs": [
    {
     "data": {
      "text/html": [
       "<div>\n",
       "<style scoped>\n",
       "    .dataframe tbody tr th:only-of-type {\n",
       "        vertical-align: middle;\n",
       "    }\n",
       "\n",
       "    .dataframe tbody tr th {\n",
       "        vertical-align: top;\n",
       "    }\n",
       "\n",
       "    .dataframe thead th {\n",
       "        text-align: right;\n",
       "    }\n",
       "</style>\n",
       "<table border=\"1\" class=\"dataframe\">\n",
       "  <thead>\n",
       "    <tr style=\"text-align: right;\">\n",
       "      <th></th>\n",
       "      <th>document_id</th>\n",
       "      <th>type</th>\n",
       "      <th>sentence_index</th>\n",
       "      <th>start_word_index</th>\n",
       "      <th>end_word_index</th>\n",
       "      <th>string</th>\n",
       "    </tr>\n",
       "  </thead>\n",
       "  <tbody>\n",
       "    <tr>\n",
       "      <th>0</th>\n",
       "      <td>bc/phoenix/00/phoenix_0000@0000@phoenix@bc@en@on</td>\n",
       "      <td>ORDINAL</td>\n",
       "      <td>0</td>\n",
       "      <td>5</td>\n",
       "      <td>5</td>\n",
       "      <td>first</td>\n",
       "    </tr>\n",
       "    <tr>\n",
       "      <th>1</th>\n",
       "      <td>bc/phoenix/00/phoenix_0000@0000@phoenix@bc@en@on</td>\n",
       "      <td>PERSON</td>\n",
       "      <td>18</td>\n",
       "      <td>19</td>\n",
       "      <td>20</td>\n",
       "      <td>Ye Daying</td>\n",
       "    </tr>\n",
       "    <tr>\n",
       "      <th>2</th>\n",
       "      <td>bc/phoenix/00/phoenix_0000@0000@phoenix@bc@en@on</td>\n",
       "      <td>PERSON</td>\n",
       "      <td>18</td>\n",
       "      <td>47</td>\n",
       "      <td>48</td>\n",
       "      <td>Ye Ting</td>\n",
       "    </tr>\n",
       "    <tr>\n",
       "      <th>3</th>\n",
       "      <td>bc/phoenix/00/phoenix_0000@0000@phoenix@bc@en@on</td>\n",
       "      <td>ORDINAL</td>\n",
       "      <td>19</td>\n",
       "      <td>11</td>\n",
       "      <td>11</td>\n",
       "      <td>second</td>\n",
       "    </tr>\n",
       "    <tr>\n",
       "      <th>4</th>\n",
       "      <td>bc/phoenix/00/phoenix_0000@0000@phoenix@bc@en@on</td>\n",
       "      <td>PERSON</td>\n",
       "      <td>19</td>\n",
       "      <td>3</td>\n",
       "      <td>4</td>\n",
       "      <td>Ye Zhengming</td>\n",
       "    </tr>\n",
       "  </tbody>\n",
       "</table>\n",
       "</div>"
      ],
      "text/plain": [
       "                                        document_id     type  sentence_index  \\\n",
       "0  bc/phoenix/00/phoenix_0000@0000@phoenix@bc@en@on  ORDINAL               0   \n",
       "1  bc/phoenix/00/phoenix_0000@0000@phoenix@bc@en@on   PERSON              18   \n",
       "2  bc/phoenix/00/phoenix_0000@0000@phoenix@bc@en@on   PERSON              18   \n",
       "3  bc/phoenix/00/phoenix_0000@0000@phoenix@bc@en@on  ORDINAL              19   \n",
       "4  bc/phoenix/00/phoenix_0000@0000@phoenix@bc@en@on   PERSON              19   \n",
       "\n",
       "   start_word_index  end_word_index        string  \n",
       "0                 5               5         first  \n",
       "1                19              20     Ye Daying  \n",
       "2                47              48       Ye Ting  \n",
       "3                11              11        second  \n",
       "4                 3               4  Ye Zhengming  "
      ]
     },
     "metadata": {},
     "output_type": "display_data"
    },
    {
     "name": "stdout",
     "output_type": "stream",
     "text": [
      "CPU times: user 173 ms, sys: 76.5 ms, total: 250 ms\n",
      "Wall time: 245 ms\n"
     ]
    }
   ],
   "source": [
    "%%time\n",
    "entities = data_helper.get_entities()\n",
    "display(entities.head())"
   ]
  },
  {
   "cell_type": "code",
   "execution_count": 5,
   "metadata": {},
   "outputs": [],
   "source": [
    "entities['sentence_id'] = ['{}:{}'.format(r.document_id, r.sentence_index) for _, r in entities.iterrows()]"
   ]
  },
  {
   "cell_type": "code",
   "execution_count": 6,
   "metadata": {},
   "outputs": [
    {
     "data": {
      "text/html": [
       "<div>\n",
       "<style scoped>\n",
       "    .dataframe tbody tr th:only-of-type {\n",
       "        vertical-align: middle;\n",
       "    }\n",
       "\n",
       "    .dataframe tbody tr th {\n",
       "        vertical-align: top;\n",
       "    }\n",
       "\n",
       "    .dataframe thead th {\n",
       "        text-align: right;\n",
       "    }\n",
       "</style>\n",
       "<table border=\"1\" class=\"dataframe\">\n",
       "  <thead>\n",
       "    <tr style=\"text-align: right;\">\n",
       "      <th></th>\n",
       "      <th>document_id</th>\n",
       "      <th>type</th>\n",
       "      <th>sentence_index</th>\n",
       "      <th>start_word_index</th>\n",
       "      <th>end_word_index</th>\n",
       "      <th>string</th>\n",
       "      <th>sentence_id</th>\n",
       "    </tr>\n",
       "  </thead>\n",
       "  <tbody>\n",
       "    <tr>\n",
       "      <th>0</th>\n",
       "      <td>bc/phoenix/00/phoenix_0000@0000@phoenix@bc@en@on</td>\n",
       "      <td>ORDINAL</td>\n",
       "      <td>0</td>\n",
       "      <td>5</td>\n",
       "      <td>5</td>\n",
       "      <td>first</td>\n",
       "      <td>bc/phoenix/00/phoenix_0000@0000@phoenix@bc@en@...</td>\n",
       "    </tr>\n",
       "    <tr>\n",
       "      <th>1</th>\n",
       "      <td>bc/phoenix/00/phoenix_0000@0000@phoenix@bc@en@on</td>\n",
       "      <td>PERSON</td>\n",
       "      <td>18</td>\n",
       "      <td>19</td>\n",
       "      <td>20</td>\n",
       "      <td>Ye Daying</td>\n",
       "      <td>bc/phoenix/00/phoenix_0000@0000@phoenix@bc@en@...</td>\n",
       "    </tr>\n",
       "    <tr>\n",
       "      <th>2</th>\n",
       "      <td>bc/phoenix/00/phoenix_0000@0000@phoenix@bc@en@on</td>\n",
       "      <td>PERSON</td>\n",
       "      <td>18</td>\n",
       "      <td>47</td>\n",
       "      <td>48</td>\n",
       "      <td>Ye Ting</td>\n",
       "      <td>bc/phoenix/00/phoenix_0000@0000@phoenix@bc@en@...</td>\n",
       "    </tr>\n",
       "    <tr>\n",
       "      <th>3</th>\n",
       "      <td>bc/phoenix/00/phoenix_0000@0000@phoenix@bc@en@on</td>\n",
       "      <td>ORDINAL</td>\n",
       "      <td>19</td>\n",
       "      <td>11</td>\n",
       "      <td>11</td>\n",
       "      <td>second</td>\n",
       "      <td>bc/phoenix/00/phoenix_0000@0000@phoenix@bc@en@...</td>\n",
       "    </tr>\n",
       "    <tr>\n",
       "      <th>4</th>\n",
       "      <td>bc/phoenix/00/phoenix_0000@0000@phoenix@bc@en@on</td>\n",
       "      <td>PERSON</td>\n",
       "      <td>19</td>\n",
       "      <td>3</td>\n",
       "      <td>4</td>\n",
       "      <td>Ye Zhengming</td>\n",
       "      <td>bc/phoenix/00/phoenix_0000@0000@phoenix@bc@en@...</td>\n",
       "    </tr>\n",
       "  </tbody>\n",
       "</table>\n",
       "</div>"
      ],
      "text/plain": [
       "                                        document_id     type  sentence_index  \\\n",
       "0  bc/phoenix/00/phoenix_0000@0000@phoenix@bc@en@on  ORDINAL               0   \n",
       "1  bc/phoenix/00/phoenix_0000@0000@phoenix@bc@en@on   PERSON              18   \n",
       "2  bc/phoenix/00/phoenix_0000@0000@phoenix@bc@en@on   PERSON              18   \n",
       "3  bc/phoenix/00/phoenix_0000@0000@phoenix@bc@en@on  ORDINAL              19   \n",
       "4  bc/phoenix/00/phoenix_0000@0000@phoenix@bc@en@on   PERSON              19   \n",
       "\n",
       "   start_word_index  end_word_index        string  \\\n",
       "0                 5               5         first   \n",
       "1                19              20     Ye Daying   \n",
       "2                47              48       Ye Ting   \n",
       "3                11              11        second   \n",
       "4                 3               4  Ye Zhengming   \n",
       "\n",
       "                                         sentence_id  \n",
       "0  bc/phoenix/00/phoenix_0000@0000@phoenix@bc@en@...  \n",
       "1  bc/phoenix/00/phoenix_0000@0000@phoenix@bc@en@...  \n",
       "2  bc/phoenix/00/phoenix_0000@0000@phoenix@bc@en@...  \n",
       "3  bc/phoenix/00/phoenix_0000@0000@phoenix@bc@en@...  \n",
       "4  bc/phoenix/00/phoenix_0000@0000@phoenix@bc@en@...  "
      ]
     },
     "execution_count": 6,
     "metadata": {},
     "output_type": "execute_result"
    }
   ],
   "source": [
    "entities.head()"
   ]
  },
  {
   "cell_type": "code",
   "execution_count": 7,
   "metadata": {},
   "outputs": [
    {
     "name": "stdout",
     "output_type": "stream",
     "text": [
      "../data/sentences.pkl\r\n"
     ]
    }
   ],
   "source": [
    "!ls ../data/sentences.pkl"
   ]
  },
  {
   "cell_type": "code",
   "execution_count": 8,
   "metadata": {},
   "outputs": [
    {
     "name": "stdout",
     "output_type": "stream",
     "text": [
      "CPU times: user 1min 28s, sys: 19.9 s, total: 1min 48s\n",
      "Wall time: 2min 7s\n"
     ]
    }
   ],
   "source": [
    "%%time\n",
    "\n",
    "sentences = data_helper.get_sentences()\n",
    "with open('../data/sentences.pkl', 'rb') as file:\n",
    "    sentences['spacy_parsed'] = pickle.load(file)"
   ]
  },
  {
   "cell_type": "code",
   "execution_count": 9,
   "metadata": {},
   "outputs": [
    {
     "data": {
      "text/html": [
       "<div>\n",
       "<style scoped>\n",
       "    .dataframe tbody tr th:only-of-type {\n",
       "        vertical-align: middle;\n",
       "    }\n",
       "\n",
       "    .dataframe tbody tr th {\n",
       "        vertical-align: top;\n",
       "    }\n",
       "\n",
       "    .dataframe thead th {\n",
       "        text-align: right;\n",
       "    }\n",
       "</style>\n",
       "<table border=\"1\" class=\"dataframe\">\n",
       "  <thead>\n",
       "    <tr style=\"text-align: right;\">\n",
       "      <th></th>\n",
       "      <th>document_id</th>\n",
       "      <th>sentence_index</th>\n",
       "      <th>sentence</th>\n",
       "      <th>spacy_parsed</th>\n",
       "    </tr>\n",
       "    <tr>\n",
       "      <th>sentence_id</th>\n",
       "      <th></th>\n",
       "      <th></th>\n",
       "      <th></th>\n",
       "      <th></th>\n",
       "    </tr>\n",
       "  </thead>\n",
       "  <tbody>\n",
       "    <tr>\n",
       "      <th>bn/abc/00/abc_0008@0008@abc@bn@en@on:0</th>\n",
       "      <td>bn/abc/00/abc_0008@0008@abc@bn@en@on</td>\n",
       "      <td>0</td>\n",
       "      <td>The explosion in Yemen did not help an already...</td>\n",
       "      <td>(The, explosion, in, Yemen, did, not, help, an...</td>\n",
       "    </tr>\n",
       "    <tr>\n",
       "      <th>bn/abc/00/abc_0006@0006@abc@bn@en@on:0</th>\n",
       "      <td>bn/abc/00/abc_0006@0006@abc@bn@en@on</td>\n",
       "      <td>0</td>\n",
       "      <td>Still in Asia , President Clinton signed a bil...</td>\n",
       "      <td>(Still, in, Asia, ,, President, Clinton, signe...</td>\n",
       "    </tr>\n",
       "    <tr>\n",
       "      <th>bn/abc/00/abc_0006@0006@abc@bn@en@on:1</th>\n",
       "      <td>bn/abc/00/abc_0006@0006@abc@bn@en@on</td>\n",
       "      <td>1</td>\n",
       "      <td>This will end the annual review of China 's tr...</td>\n",
       "      <td>(This, will, end, the, annual, review, of, Chi...</td>\n",
       "    </tr>\n",
       "    <tr>\n",
       "      <th>bn/abc/00/abc_0006@0006@abc@bn@en@on:2</th>\n",
       "      <td>bn/abc/00/abc_0006@0006@abc@bn@en@on</td>\n",
       "      <td>2</td>\n",
       "      <td>China , in return , has agreed to open its mar...</td>\n",
       "      <td>(China, ,, in, return, ,, has, agreed, to, ope...</td>\n",
       "    </tr>\n",
       "    <tr>\n",
       "      <th>bn/abc/00/abc_0012@0012@abc@bn@en@on:0</th>\n",
       "      <td>bn/abc/00/abc_0012@0012@abc@bn@en@on</td>\n",
       "      <td>0</td>\n",
       "      <td>And in Yemen , the investigation into the bomb...</td>\n",
       "      <td>(And, in, Yemen, ,, the, investigation, into, ...</td>\n",
       "    </tr>\n",
       "  </tbody>\n",
       "</table>\n",
       "</div>"
      ],
      "text/plain": [
       "                                                                 document_id  \\\n",
       "sentence_id                                                                    \n",
       "bn/abc/00/abc_0008@0008@abc@bn@en@on:0  bn/abc/00/abc_0008@0008@abc@bn@en@on   \n",
       "bn/abc/00/abc_0006@0006@abc@bn@en@on:0  bn/abc/00/abc_0006@0006@abc@bn@en@on   \n",
       "bn/abc/00/abc_0006@0006@abc@bn@en@on:1  bn/abc/00/abc_0006@0006@abc@bn@en@on   \n",
       "bn/abc/00/abc_0006@0006@abc@bn@en@on:2  bn/abc/00/abc_0006@0006@abc@bn@en@on   \n",
       "bn/abc/00/abc_0012@0012@abc@bn@en@on:0  bn/abc/00/abc_0012@0012@abc@bn@en@on   \n",
       "\n",
       "                                        sentence_index  \\\n",
       "sentence_id                                              \n",
       "bn/abc/00/abc_0008@0008@abc@bn@en@on:0               0   \n",
       "bn/abc/00/abc_0006@0006@abc@bn@en@on:0               0   \n",
       "bn/abc/00/abc_0006@0006@abc@bn@en@on:1               1   \n",
       "bn/abc/00/abc_0006@0006@abc@bn@en@on:2               2   \n",
       "bn/abc/00/abc_0012@0012@abc@bn@en@on:0               0   \n",
       "\n",
       "                                                                                 sentence  \\\n",
       "sentence_id                                                                                 \n",
       "bn/abc/00/abc_0008@0008@abc@bn@en@on:0  The explosion in Yemen did not help an already...   \n",
       "bn/abc/00/abc_0006@0006@abc@bn@en@on:0  Still in Asia , President Clinton signed a bil...   \n",
       "bn/abc/00/abc_0006@0006@abc@bn@en@on:1  This will end the annual review of China 's tr...   \n",
       "bn/abc/00/abc_0006@0006@abc@bn@en@on:2  China , in return , has agreed to open its mar...   \n",
       "bn/abc/00/abc_0012@0012@abc@bn@en@on:0  And in Yemen , the investigation into the bomb...   \n",
       "\n",
       "                                                                             spacy_parsed  \n",
       "sentence_id                                                                                \n",
       "bn/abc/00/abc_0008@0008@abc@bn@en@on:0  (The, explosion, in, Yemen, did, not, help, an...  \n",
       "bn/abc/00/abc_0006@0006@abc@bn@en@on:0  (Still, in, Asia, ,, President, Clinton, signe...  \n",
       "bn/abc/00/abc_0006@0006@abc@bn@en@on:1  (This, will, end, the, annual, review, of, Chi...  \n",
       "bn/abc/00/abc_0006@0006@abc@bn@en@on:2  (China, ,, in, return, ,, has, agreed, to, ope...  \n",
       "bn/abc/00/abc_0012@0012@abc@bn@en@on:0  (And, in, Yemen, ,, the, investigation, into, ...  "
      ]
     },
     "execution_count": 9,
     "metadata": {},
     "output_type": "execute_result"
    }
   ],
   "source": [
    "sentences.head()"
   ]
  },
  {
   "cell_type": "code",
   "execution_count": 10,
   "metadata": {},
   "outputs": [],
   "source": [
    "# Skip for now - try again later\n",
    "# sentences['spacy_parsed'] = sentence_trees\n",
    "# with open('../data/sentences.20181205.pkl', 'wb') as file:\n",
    "#     pickle.dump(sentences, file)"
   ]
  },
  {
   "cell_type": "code",
   "execution_count": 11,
   "metadata": {},
   "outputs": [],
   "source": [
    "with open('../data/train_document_ids.pkl', 'rb') as file:\n",
    "    train_document_ids = pickle.load(file)"
   ]
  },
  {
   "cell_type": "code",
   "execution_count": 12,
   "metadata": {},
   "outputs": [
    {
     "data": {
      "text/plain": [
       "100415"
      ]
     },
     "execution_count": 12,
     "metadata": {},
     "output_type": "execute_result"
    }
   ],
   "source": [
    "train_sentences = sentences[sentences.document_id.isin(train_document_ids)]\n",
    "len(train_sentences)"
   ]
  },
  {
   "cell_type": "code",
   "execution_count": 13,
   "metadata": {},
   "outputs": [
    {
     "data": {
      "text/plain": [
       "113115"
      ]
     },
     "execution_count": 13,
     "metadata": {},
     "output_type": "execute_result"
    }
   ],
   "source": [
    "train_entities = entities[entities.document_id.isin(train_document_ids)]\n",
    "len(train_entities)"
   ]
  },
  {
   "cell_type": "code",
   "execution_count": 14,
   "metadata": {},
   "outputs": [
    {
     "name": "stderr",
     "output_type": "stream",
     "text": [
      "100%|██████████| 113115/113115 [00:53<00:00, 2119.90it/s]\n",
      "  0%|          | 0/18 [00:00<?, ?it/s]/home/dan/jupyter/w266-final-project/ontonotes_graphing/helpers/graph_generator.py:152: RuntimeWarning: divide by zero encountered in log\n",
      "  log_total = np.log(sum([G.node[node]['weight'] for node in successor_nodes]))\n",
      "100%|██████████| 18/18 [22:55<00:00,  8.14s/it]\n"
     ]
    }
   ],
   "source": [
    "reload(graph_generator)\n",
    "graph = graph_generator.generate_graph(train_entities, train_sentences)"
   ]
  },
  {
   "cell_type": "code",
   "execution_count": 15,
   "metadata": {},
   "outputs": [],
   "source": [
    "with open('../data/LP_NET_Graphs.20181205.pkl', 'wb') as file:\n",
    "    pickle.dump(graph, file)"
   ]
  },
  {
   "cell_type": "code",
   "execution_count": 16,
   "metadata": {},
   "outputs": [
    {
     "data": {
      "text/plain": [
       "{'ORDINAL': <networkx.classes.digraph.DiGraph at 0x7f1e966cc4e0>,\n",
       " 'PERSON': <networkx.classes.digraph.DiGraph at 0x7f1e966cc3c8>,\n",
       " 'DATE': <networkx.classes.digraph.DiGraph at 0x7f1eddfa9b00>,\n",
       " 'GPE': <networkx.classes.digraph.DiGraph at 0x7f1e966cc940>,\n",
       " 'NORP': <networkx.classes.digraph.DiGraph at 0x7f1e83c012e8>,\n",
       " 'CARDINAL': <networkx.classes.digraph.DiGraph at 0x7f1e966cc9b0>,\n",
       " 'ORG': <networkx.classes.digraph.DiGraph at 0x7f1e836e8c18>,\n",
       " 'EVENT': <networkx.classes.digraph.DiGraph at 0x7f1e837640f0>,\n",
       " 'WORK_OF_ART': <networkx.classes.digraph.DiGraph at 0x7f1e62d00940>,\n",
       " 'MONEY': <networkx.classes.digraph.DiGraph at 0x7f1ea0e84550>,\n",
       " 'LANGUAGE': <networkx.classes.digraph.DiGraph at 0x7f1e58383e10>,\n",
       " 'FAC': <networkx.classes.digraph.DiGraph at 0x7f1e5ffc0f60>,\n",
       " 'LOC': <networkx.classes.digraph.DiGraph at 0x7f1edd74e1d0>,\n",
       " 'QUANTITY': <networkx.classes.digraph.DiGraph at 0x7f1e5fbda7b8>,\n",
       " 'LAW': <networkx.classes.digraph.DiGraph at 0x7f1e5fbdaba8>,\n",
       " 'TIME': <networkx.classes.digraph.DiGraph at 0x7f1e5f75dd30>,\n",
       " 'PRODUCT': <networkx.classes.digraph.DiGraph at 0x7f1e5eb61160>,\n",
       " 'PERCENT': <networkx.classes.digraph.DiGraph at 0x7f1e5c5adfd0>}"
      ]
     },
     "execution_count": 16,
     "metadata": {},
     "output_type": "execute_result"
    }
   ],
   "source": [
    "graph"
   ]
  },
  {
   "cell_type": "code",
   "execution_count": 19,
   "metadata": {},
   "outputs": [
    {
     "data": {
      "text/plain": [
       "9640"
      ]
     },
     "execution_count": 19,
     "metadata": {},
     "output_type": "execute_result"
    }
   ],
   "source": [
    "len(graph['PERSON'].nodes)"
   ]
  },
  {
   "cell_type": "code",
   "execution_count": null,
   "metadata": {},
   "outputs": [],
   "source": []
  }
 ],
 "metadata": {
  "kernelspec": {
   "display_name": "Python 3",
   "language": "python",
   "name": "python3"
  },
  "language_info": {
   "codemirror_mode": {
    "name": "ipython",
    "version": 3
   },
   "file_extension": ".py",
   "mimetype": "text/x-python",
   "name": "python",
   "nbconvert_exporter": "python",
   "pygments_lexer": "ipython3",
   "version": "3.7.0"
  }
 },
 "nbformat": 4,
 "nbformat_minor": 2
}
