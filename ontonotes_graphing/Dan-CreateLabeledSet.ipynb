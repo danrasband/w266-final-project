{
 "cells": [
  {
   "cell_type": "code",
   "execution_count": 13,
   "metadata": {},
   "outputs": [],
   "source": [
    "import spacy\n",
    "from spacy import displacy\n",
    "import pandas as pd\n",
    "import csv\n",
    "import networkx as nx\n",
    "import time\n",
    "from graphviz import Source\n",
    "from tqdm import tqdm"
   ]
  },
  {
   "cell_type": "code",
   "execution_count": 2,
   "metadata": {},
   "outputs": [
    {
     "name": "stdout",
     "output_type": "stream",
     "text": [
      "document.csv  download.sh  name_entity.csv  sentence.csv  www.glozman.com\r\n"
     ]
    }
   ],
   "source": [
    "! ls ../data"
   ]
  },
  {
   "cell_type": "code",
   "execution_count": 15,
   "metadata": {},
   "outputs": [
    {
     "name": "stdout",
     "output_type": "stream",
     "text": [
      "\"document_id\",\"no_trace_string\"\r\n",
      "\"bn/abc/00/abc_0008@0008@abc@bn@en@on\",\"The explosion in Yemen did not help an already tense situation in the Middle East , but there is the very slightest hope tonight , because there 's word of a possible Israeli / Palestinian summit in Egypt in the next several days .\"\r\n",
      "\"bn/abc/00/abc_0006@0006@abc@bn@en@on\",\"Still in Asia , President Clinton signed a bill today granting China permanent normal trade relations .\"\r\n",
      "\"bn/abc/00/abc_0006@0006@abc@bn@en@on\",\"This will end the annual review of China 's trade status and lower tariffs on Chinese imports .\"\r\n",
      "\"bn/abc/00/abc_0006@0006@abc@bn@en@on\",\"China , in return , has agreed to open its market wider to goods from the U.S .\"\r\n",
      "\"bn/abc/00/abc_0012@0012@abc@bn@en@on\",\"And in Yemen , the investigation into the bombing that killed 17 U.S. sailors continues as 33 injured sailors returned home today to Norfolk , Virginia .\"\r\n"
     ]
    }
   ],
   "source": [
    "! head -n 6 ../data/sentence.csv"
   ]
  },
  {
   "cell_type": "code",
   "execution_count": 18,
   "metadata": {},
   "outputs": [
    {
     "data": {
      "text/html": [
       "<div>\n",
       "<style scoped>\n",
       "    .dataframe tbody tr th:only-of-type {\n",
       "        vertical-align: middle;\n",
       "    }\n",
       "\n",
       "    .dataframe tbody tr th {\n",
       "        vertical-align: top;\n",
       "    }\n",
       "\n",
       "    .dataframe thead th {\n",
       "        text-align: right;\n",
       "    }\n",
       "</style>\n",
       "<table border=\"1\" class=\"dataframe\">\n",
       "  <thead>\n",
       "    <tr style=\"text-align: right;\">\n",
       "      <th></th>\n",
       "      <th>document_id</th>\n",
       "      <th>no_trace_string</th>\n",
       "    </tr>\n",
       "  </thead>\n",
       "  <tbody>\n",
       "    <tr>\n",
       "      <th>0</th>\n",
       "      <td>bn/abc/00/abc_0008@0008@abc@bn@en@on</td>\n",
       "      <td>The explosion in Yemen did not help an already...</td>\n",
       "    </tr>\n",
       "    <tr>\n",
       "      <th>1</th>\n",
       "      <td>bn/abc/00/abc_0006@0006@abc@bn@en@on</td>\n",
       "      <td>Still in Asia , President Clinton signed a bil...</td>\n",
       "    </tr>\n",
       "    <tr>\n",
       "      <th>2</th>\n",
       "      <td>bn/abc/00/abc_0006@0006@abc@bn@en@on</td>\n",
       "      <td>This will end the annual review of China 's tr...</td>\n",
       "    </tr>\n",
       "    <tr>\n",
       "      <th>3</th>\n",
       "      <td>bn/abc/00/abc_0006@0006@abc@bn@en@on</td>\n",
       "      <td>China , in return , has agreed to open its mar...</td>\n",
       "    </tr>\n",
       "    <tr>\n",
       "      <th>4</th>\n",
       "      <td>bn/abc/00/abc_0012@0012@abc@bn@en@on</td>\n",
       "      <td>And in Yemen , the investigation into the bomb...</td>\n",
       "    </tr>\n",
       "  </tbody>\n",
       "</table>\n",
       "</div>"
      ],
      "text/plain": [
       "                            document_id  \\\n",
       "0  bn/abc/00/abc_0008@0008@abc@bn@en@on   \n",
       "1  bn/abc/00/abc_0006@0006@abc@bn@en@on   \n",
       "2  bn/abc/00/abc_0006@0006@abc@bn@en@on   \n",
       "3  bn/abc/00/abc_0006@0006@abc@bn@en@on   \n",
       "4  bn/abc/00/abc_0012@0012@abc@bn@en@on   \n",
       "\n",
       "                                     no_trace_string  \n",
       "0  The explosion in Yemen did not help an already...  \n",
       "1  Still in Asia , President Clinton signed a bil...  \n",
       "2  This will end the annual review of China 's tr...  \n",
       "3  China , in return , has agreed to open its mar...  \n",
       "4  And in Yemen , the investigation into the bomb...  "
      ]
     },
     "execution_count": 18,
     "metadata": {},
     "output_type": "execute_result"
    }
   ],
   "source": [
    "sentences = pd.read_csv('../data/sentence.csv')\n",
    "sentences.head()"
   ]
  },
  {
   "cell_type": "code",
   "execution_count": 19,
   "metadata": {},
   "outputs": [
    {
     "data": {
      "text/html": [
       "<div>\n",
       "<style scoped>\n",
       "    .dataframe tbody tr th:only-of-type {\n",
       "        vertical-align: middle;\n",
       "    }\n",
       "\n",
       "    .dataframe tbody tr th {\n",
       "        vertical-align: top;\n",
       "    }\n",
       "\n",
       "    .dataframe thead th {\n",
       "        text-align: right;\n",
       "    }\n",
       "</style>\n",
       "<table border=\"1\" class=\"dataframe\">\n",
       "  <thead>\n",
       "    <tr style=\"text-align: right;\">\n",
       "      <th></th>\n",
       "      <th>document_id</th>\n",
       "      <th>document</th>\n",
       "    </tr>\n",
       "  </thead>\n",
       "  <tbody>\n",
       "    <tr>\n",
       "      <th>0</th>\n",
       "      <td>bc/cctv/00/cctv_0000@0000@cctv@bc@en@on</td>\n",
       "      <td>In the summer of 2005 , a picture that people ...</td>\n",
       "    </tr>\n",
       "    <tr>\n",
       "      <th>1</th>\n",
       "      <td>bc/cctv/00/cctv_0001@0001@cctv@bc@en@on</td>\n",
       "      <td>What kind of memory ? We respectfully invite y...</td>\n",
       "    </tr>\n",
       "    <tr>\n",
       "      <th>2</th>\n",
       "      <td>bc/cctv/00/cctv_0002@0002@cctv@bc@en@on</td>\n",
       "      <td>Abramov had a car accident in Moscow last nigh...</td>\n",
       "    </tr>\n",
       "    <tr>\n",
       "      <th>3</th>\n",
       "      <td>bc/cctv/00/cctv_0003@0003@cctv@bc@en@on</td>\n",
       "      <td>Hello , dear viewers . Welcome to Focus Today ...</td>\n",
       "    </tr>\n",
       "    <tr>\n",
       "      <th>4</th>\n",
       "      <td>bc/cctv/00/cctv_0004@0004@cctv@bc@en@on</td>\n",
       "      <td>There will be 120 million viewers tuning in to...</td>\n",
       "    </tr>\n",
       "  </tbody>\n",
       "</table>\n",
       "</div>"
      ],
      "text/plain": [
       "                               document_id  \\\n",
       "0  bc/cctv/00/cctv_0000@0000@cctv@bc@en@on   \n",
       "1  bc/cctv/00/cctv_0001@0001@cctv@bc@en@on   \n",
       "2  bc/cctv/00/cctv_0002@0002@cctv@bc@en@on   \n",
       "3  bc/cctv/00/cctv_0003@0003@cctv@bc@en@on   \n",
       "4  bc/cctv/00/cctv_0004@0004@cctv@bc@en@on   \n",
       "\n",
       "                                            document  \n",
       "0  In the summer of 2005 , a picture that people ...  \n",
       "1  What kind of memory ? We respectfully invite y...  \n",
       "2  Abramov had a car accident in Moscow last nigh...  \n",
       "3  Hello , dear viewers . Welcome to Focus Today ...  \n",
       "4  There will be 120 million viewers tuning in to...  "
      ]
     },
     "execution_count": 19,
     "metadata": {},
     "output_type": "execute_result"
    }
   ],
   "source": [
    "documents = pd.read_csv('../data/document.csv')\n",
    "documents.head()"
   ]
  },
  {
   "cell_type": "code",
   "execution_count": 20,
   "metadata": {},
   "outputs": [
    {
     "data": {
      "text/plain": [
       "143709"
      ]
     },
     "execution_count": 20,
     "metadata": {},
     "output_type": "execute_result"
    }
   ],
   "source": [
    "len(sentences)"
   ]
  },
  {
   "cell_type": "code",
   "execution_count": 21,
   "metadata": {},
   "outputs": [
    {
     "data": {
      "text/plain": [
       "13109"
      ]
     },
     "execution_count": 21,
     "metadata": {},
     "output_type": "execute_result"
    }
   ],
   "source": [
    "len(documents)"
   ]
  },
  {
   "cell_type": "code",
   "execution_count": null,
   "metadata": {},
   "outputs": [],
   "source": []
  }
 ],
 "metadata": {
  "kernelspec": {
   "display_name": "Python 3",
   "language": "python",
   "name": "python3"
  },
  "language_info": {
   "codemirror_mode": {
    "name": "ipython",
    "version": 3
   },
   "file_extension": ".py",
   "mimetype": "text/x-python",
   "name": "python",
   "nbconvert_exporter": "python",
   "pygments_lexer": "ipython3",
   "version": "3.6.5"
  }
 },
 "nbformat": 4,
 "nbformat_minor": 2
}
