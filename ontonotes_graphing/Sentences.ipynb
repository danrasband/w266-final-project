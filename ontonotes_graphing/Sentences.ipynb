{
 "cells": [
  {
   "cell_type": "code",
   "execution_count": 1,
   "metadata": {},
   "outputs": [
    {
     "name": "stdout",
     "output_type": "stream",
     "text": [
      "Name: en-coref-lg\n",
      "Version: 3.0.0\n",
      "Summary: Coref-added English multi-task CNN trained on OntoNotes, with GloVe vectors trained on Common Crawl. Assigns word vectors, context-specific token vectors, POS tags, dependency parse, named entities and coreference clusters.\n",
      "Home-page: https://huggingface.co\n",
      "Author: HuggingFace Inc. & Explosion AI\n",
      "Author-email: thomas@huggingface.co\n",
      "License: CC BY-SA 3.0\n",
      "Location: /home/dan/.pyenv/versions/3.7.0/lib/python3.7/site-packages\n",
      "Requires: spacy\n",
      "Required-by: \n"
     ]
    }
   ],
   "source": [
    "%%script bash\n",
    "# Install en_coref_lg if it hasn't been installed already.\n",
    "pip show en_coref_lg 2>/dev/null;\n",
    "if [ ! $? ]; then \n",
    "  pip install https://github.com/huggingface/neuralcoref-models/releases/download/en_coref_lg-3.0.0/en_coref_lg-3.0.0.tar.gz;\n",
    "  pip show en_coref_lg 2>/dev/null;\n",
    "fi  "
   ]
  },
  {
   "cell_type": "code",
   "execution_count": 2,
   "metadata": {},
   "outputs": [],
   "source": [
    "# Models\n",
    "import spacy\n",
    "from spacy import displacy\n",
    "import en_coref_lg\n",
    "import networkx as nx\n",
    "\n",
    "# Data Wrangling\n",
    "import pandas as pd\n",
    "import csv\n",
    "import dill as pickle\n",
    "\n",
    "# Utils\n",
    "import time\n",
    "from graphviz import Source\n",
    "from tqdm import tqdm"
   ]
  },
  {
   "cell_type": "code",
   "execution_count": 3,
   "metadata": {},
   "outputs": [
    {
     "name": "stdout",
     "output_type": "stream",
     "text": [
      "document.csv   entity_ids.pkl\tsentences-coref.pkl\r\n",
      "documents.pkl  name_entity.csv\tsentences.pkl\r\n",
      "download.sh    sentence.csv\twww.glozman.com\r\n"
     ]
    }
   ],
   "source": [
    "! ls ../data"
   ]
  },
  {
   "cell_type": "code",
   "execution_count": 4,
   "metadata": {},
   "outputs": [
    {
     "name": "stdout",
     "output_type": "stream",
     "text": [
      "\"document_id\",\"sentence_index\",\"sentence\"\r\n",
      "\"bn/abc/00/abc_0008@0008@abc@bn@en@on\",0,\"The explosion in Yemen did not help an already tense situation in the Middle East , but there is the very slightest hope tonight , because there 's word of a possible Israeli / Palestinian summit in Egypt in the next several days .\"\r\n",
      "\"bn/abc/00/abc_0006@0006@abc@bn@en@on\",0,\"Still in Asia , President Clinton signed a bill today granting China permanent normal trade relations .\"\r\n",
      "\"bn/abc/00/abc_0006@0006@abc@bn@en@on\",1,\"This will end the annual review of China 's trade status and lower tariffs on Chinese imports .\"\r\n",
      "\"bn/abc/00/abc_0006@0006@abc@bn@en@on\",2,\"China , in return , has agreed to open its market wider to goods from the U.S .\"\r\n",
      "\"bn/abc/00/abc_0012@0012@abc@bn@en@on\",0,\"And in Yemen , the investigation into the bombing that killed 17 U.S. sailors continues as 33 injured sailors returned home today to Norfolk , Virginia .\"\r\n"
     ]
    }
   ],
   "source": [
    "! head -n 6 ../data/sentence.csv"
   ]
  },
  {
   "cell_type": "code",
   "execution_count": 5,
   "metadata": {},
   "outputs": [
    {
     "data": {
      "text/html": [
       "<div>\n",
       "<style scoped>\n",
       "    .dataframe tbody tr th:only-of-type {\n",
       "        vertical-align: middle;\n",
       "    }\n",
       "\n",
       "    .dataframe tbody tr th {\n",
       "        vertical-align: top;\n",
       "    }\n",
       "\n",
       "    .dataframe thead th {\n",
       "        text-align: right;\n",
       "    }\n",
       "</style>\n",
       "<table border=\"1\" class=\"dataframe\">\n",
       "  <thead>\n",
       "    <tr style=\"text-align: right;\">\n",
       "      <th></th>\n",
       "      <th>document_id</th>\n",
       "      <th>sentence_index</th>\n",
       "      <th>sentence</th>\n",
       "    </tr>\n",
       "  </thead>\n",
       "  <tbody>\n",
       "    <tr>\n",
       "      <th>0</th>\n",
       "      <td>bn/abc/00/abc_0008@0008@abc@bn@en@on</td>\n",
       "      <td>0</td>\n",
       "      <td>The explosion in Yemen did not help an already...</td>\n",
       "    </tr>\n",
       "    <tr>\n",
       "      <th>1</th>\n",
       "      <td>bn/abc/00/abc_0006@0006@abc@bn@en@on</td>\n",
       "      <td>0</td>\n",
       "      <td>Still in Asia , President Clinton signed a bil...</td>\n",
       "    </tr>\n",
       "    <tr>\n",
       "      <th>2</th>\n",
       "      <td>bn/abc/00/abc_0006@0006@abc@bn@en@on</td>\n",
       "      <td>1</td>\n",
       "      <td>This will end the annual review of China 's tr...</td>\n",
       "    </tr>\n",
       "    <tr>\n",
       "      <th>3</th>\n",
       "      <td>bn/abc/00/abc_0006@0006@abc@bn@en@on</td>\n",
       "      <td>2</td>\n",
       "      <td>China , in return , has agreed to open its mar...</td>\n",
       "    </tr>\n",
       "    <tr>\n",
       "      <th>4</th>\n",
       "      <td>bn/abc/00/abc_0012@0012@abc@bn@en@on</td>\n",
       "      <td>0</td>\n",
       "      <td>And in Yemen , the investigation into the bomb...</td>\n",
       "    </tr>\n",
       "  </tbody>\n",
       "</table>\n",
       "</div>"
      ],
      "text/plain": [
       "                            document_id  sentence_index  \\\n",
       "0  bn/abc/00/abc_0008@0008@abc@bn@en@on               0   \n",
       "1  bn/abc/00/abc_0006@0006@abc@bn@en@on               0   \n",
       "2  bn/abc/00/abc_0006@0006@abc@bn@en@on               1   \n",
       "3  bn/abc/00/abc_0006@0006@abc@bn@en@on               2   \n",
       "4  bn/abc/00/abc_0012@0012@abc@bn@en@on               0   \n",
       "\n",
       "                                            sentence  \n",
       "0  The explosion in Yemen did not help an already...  \n",
       "1  Still in Asia , President Clinton signed a bil...  \n",
       "2  This will end the annual review of China 's tr...  \n",
       "3  China , in return , has agreed to open its mar...  \n",
       "4  And in Yemen , the investigation into the bomb...  "
      ]
     },
     "execution_count": 5,
     "metadata": {},
     "output_type": "execute_result"
    }
   ],
   "source": [
    "sentences = pd.read_csv('../data/sentence.csv')\n",
    "sentences.head()"
   ]
  },
  {
   "cell_type": "code",
   "execution_count": 6,
   "metadata": {},
   "outputs": [
    {
     "data": {
      "text/plain": [
       "143709"
      ]
     },
     "execution_count": 6,
     "metadata": {},
     "output_type": "execute_result"
    }
   ],
   "source": [
    "len(sentences)"
   ]
  },
  {
   "cell_type": "code",
   "execution_count": null,
   "metadata": {},
   "outputs": [],
   "source": [
    "nlp = en_coref_lg.load()"
   ]
  },
  {
   "cell_type": "code",
   "execution_count": null,
   "metadata": {},
   "outputs": [],
   "source": [
    "def parse_with_spacy(document):\n",
    "    try:\n",
    "        return nlp(document)\n",
    "    except TypeError:\n",
    "        return None"
   ]
  },
  {
   "cell_type": "code",
   "execution_count": null,
   "metadata": {},
   "outputs": [],
   "source": [
    "%%time\n",
    "\n",
    "parsed = [parse_with_spacy(row['sentence']) for _, row in tqdm(sentences.iterrows())]"
   ]
  },
  {
   "cell_type": "code",
   "execution_count": null,
   "metadata": {},
   "outputs": [],
   "source": [
    "!free -m"
   ]
  },
  {
   "cell_type": "code",
   "execution_count": null,
   "metadata": {},
   "outputs": [],
   "source": [
    "with open('../data/sentences-coref.pkl', 'wb') as file:\n",
    "    pickle.dump(parsed, file, protocol=pickle.HIGHEST_PROTOCOL)"
   ]
  },
  {
   "cell_type": "code",
   "execution_count": null,
   "metadata": {},
   "outputs": [],
   "source": [
    "! ls -lah *.pkl"
   ]
  },
  {
   "cell_type": "code",
   "execution_count": null,
   "metadata": {},
   "outputs": [],
   "source": [
    "sentences['spacy_parsed'] = parsed"
   ]
  },
  {
   "cell_type": "code",
   "execution_count": null,
   "metadata": {},
   "outputs": [],
   "source": [
    "sentences.iloc[0]"
   ]
  },
  {
   "cell_type": "code",
   "execution_count": null,
   "metadata": {},
   "outputs": [],
   "source": []
  }
 ],
 "metadata": {
  "kernelspec": {
   "display_name": "Python 3",
   "language": "python",
   "name": "python3"
  },
  "language_info": {
   "codemirror_mode": {
    "name": "ipython",
    "version": 3
   },
   "file_extension": ".py",
   "mimetype": "text/x-python",
   "name": "python",
   "nbconvert_exporter": "python",
   "pygments_lexer": "ipython3",
   "version": "3.7.0"
  }
 },
 "nbformat": 4,
 "nbformat_minor": 2
}
