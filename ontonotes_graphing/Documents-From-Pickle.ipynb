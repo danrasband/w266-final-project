{
 "cells": [
  {
   "cell_type": "code",
   "execution_count": 1,
   "metadata": {},
   "outputs": [
    {
     "name": "stdout",
     "output_type": "stream",
     "text": [
      "Name: en-coref-lg\n",
      "Version: 3.0.0\n",
      "Summary: Coref-added English multi-task CNN trained on OntoNotes, with GloVe vectors trained on Common Crawl. Assigns word vectors, context-specific token vectors, POS tags, dependency parse, named entities and coreference clusters.\n",
      "Home-page: https://huggingface.co\n",
      "Author: HuggingFace Inc. & Explosion AI\n",
      "Author-email: thomas@huggingface.co\n",
      "License: CC BY-SA 3.0\n",
      "Location: /home/dan/.pyenv/versions/3.7.0/lib/python3.7/site-packages\n",
      "Requires: spacy\n",
      "Required-by: \n"
     ]
    }
   ],
   "source": [
    "%%script bash\n",
    "# Install en_coref_lg if it hasn't been installed already.\n",
    "pip show en_coref_lg 2>/dev/null;\n",
    "if [ ! $? ]; then \n",
    "  pip install https://github.com/huggingface/neuralcoref-models/releases/download/en_coref_lg-3.0.0/en_coref_lg-3.0.0.tar.gz;\n",
    "  pip show en_coref_lg 2>/dev/null;\n",
    "fi"
   ]
  },
  {
   "cell_type": "code",
   "execution_count": 2,
   "metadata": {},
   "outputs": [],
   "source": [
    "# NLP\n",
    "import spacy\n",
    "from spacy import displacy\n",
    "import en_coref_lg\n",
    "\n",
    "# Data\n",
    "import pandas as pd\n",
    "import csv\n",
    "import helpers.data as data_helper\n",
    "\n",
    "# Model\n",
    "import networkx as nx\n",
    "\n",
    "# Utils\n",
    "import time\n",
    "from graphviz import Source\n",
    "from tqdm import tqdm\n",
    "import dill as pickle"
   ]
  },
  {
   "cell_type": "code",
   "execution_count": 7,
   "metadata": {},
   "outputs": [
    {
     "name": "stdout",
     "output_type": "stream",
     "text": [
      "NET_Graphs.pkl\tname_entity.csv\t\t       sentences.pkl\r\n",
      "document.csv\tparsed_sentences.20181205.pkl  trial_graph.pkl\r\n",
      "documents.pkl\tsentence.csv\t\t       www.glozman.com\r\n",
      "download.sh\tsentences-coref.pkl\r\n",
      "entity_ids.pkl\tsentences.20181205.pkl\r\n"
     ]
    }
   ],
   "source": [
    "! ls ../data"
   ]
  },
  {
   "cell_type": "code",
   "execution_count": 3,
   "metadata": {},
   "outputs": [],
   "source": [
    "with open('../data/documents.20181205.pkl', 'rb') as file:\n",
    "    documents = pickle.load(file)"
   ]
  },
  {
   "cell_type": "code",
   "execution_count": 4,
   "metadata": {},
   "outputs": [
    {
     "data": {
      "text/html": [
       "<div>\n",
       "<style scoped>\n",
       "    .dataframe tbody tr th:only-of-type {\n",
       "        vertical-align: middle;\n",
       "    }\n",
       "\n",
       "    .dataframe tbody tr th {\n",
       "        vertical-align: top;\n",
       "    }\n",
       "\n",
       "    .dataframe thead th {\n",
       "        text-align: right;\n",
       "    }\n",
       "</style>\n",
       "<table border=\"1\" class=\"dataframe\">\n",
       "  <thead>\n",
       "    <tr style=\"text-align: right;\">\n",
       "      <th></th>\n",
       "      <th>document</th>\n",
       "      <th>spacy_tree</th>\n",
       "    </tr>\n",
       "    <tr>\n",
       "      <th>document_id</th>\n",
       "      <th></th>\n",
       "      <th></th>\n",
       "    </tr>\n",
       "  </thead>\n",
       "  <tbody>\n",
       "    <tr>\n",
       "      <th>bc/cctv/00/cctv_0000@0000@cctv@bc@en@on</th>\n",
       "      <td>In the summer of 2005 , a picture that people ...</td>\n",
       "      <td>[{'word': 'picture', 'lemma': 'picture', 'NE':...</td>\n",
       "    </tr>\n",
       "    <tr>\n",
       "      <th>bc/cctv/00/cctv_0001@0001@cctv@bc@en@on</th>\n",
       "      <td>What kind of memory ? We respectfully invite y...</td>\n",
       "      <td>[{'word': 'kind', 'lemma': 'kind', 'NE': '', '...</td>\n",
       "    </tr>\n",
       "    <tr>\n",
       "      <th>bc/cctv/00/cctv_0002@0002@cctv@bc@en@on</th>\n",
       "      <td>Abramov had a car accident in Moscow last nigh...</td>\n",
       "      <td>[{'word': 'had', 'lemma': 'have', 'NE': '', 'P...</td>\n",
       "    </tr>\n",
       "    <tr>\n",
       "      <th>bc/cctv/00/cctv_0003@0003@cctv@bc@en@on</th>\n",
       "      <td>Hello , dear viewers . Welcome to Focus Today ...</td>\n",
       "      <td>[{'word': 'Hello', 'lemma': 'hello', 'NE': '',...</td>\n",
       "    </tr>\n",
       "    <tr>\n",
       "      <th>bc/cctv/00/cctv_0004@0004@cctv@bc@en@on</th>\n",
       "      <td>There will be 120 million viewers tuning in to...</td>\n",
       "      <td>[{'word': 'be', 'lemma': 'be', 'NE': '', 'POS_...</td>\n",
       "    </tr>\n",
       "  </tbody>\n",
       "</table>\n",
       "</div>"
      ],
      "text/plain": [
       "                                                                                  document  \\\n",
       "document_id                                                                                  \n",
       "bc/cctv/00/cctv_0000@0000@cctv@bc@en@on  In the summer of 2005 , a picture that people ...   \n",
       "bc/cctv/00/cctv_0001@0001@cctv@bc@en@on  What kind of memory ? We respectfully invite y...   \n",
       "bc/cctv/00/cctv_0002@0002@cctv@bc@en@on  Abramov had a car accident in Moscow last nigh...   \n",
       "bc/cctv/00/cctv_0003@0003@cctv@bc@en@on  Hello , dear viewers . Welcome to Focus Today ...   \n",
       "bc/cctv/00/cctv_0004@0004@cctv@bc@en@on  There will be 120 million viewers tuning in to...   \n",
       "\n",
       "                                                                                spacy_tree  \n",
       "document_id                                                                                 \n",
       "bc/cctv/00/cctv_0000@0000@cctv@bc@en@on  [{'word': 'picture', 'lemma': 'picture', 'NE':...  \n",
       "bc/cctv/00/cctv_0001@0001@cctv@bc@en@on  [{'word': 'kind', 'lemma': 'kind', 'NE': '', '...  \n",
       "bc/cctv/00/cctv_0002@0002@cctv@bc@en@on  [{'word': 'had', 'lemma': 'have', 'NE': '', 'P...  \n",
       "bc/cctv/00/cctv_0003@0003@cctv@bc@en@on  [{'word': 'Hello', 'lemma': 'hello', 'NE': '',...  \n",
       "bc/cctv/00/cctv_0004@0004@cctv@bc@en@on  [{'word': 'be', 'lemma': 'be', 'NE': '', 'POS_...  "
      ]
     },
     "execution_count": 4,
     "metadata": {},
     "output_type": "execute_result"
    }
   ],
   "source": [
    "documents.head()"
   ]
  },
  {
   "cell_type": "code",
   "execution_count": 5,
   "metadata": {},
   "outputs": [
    {
     "data": {
      "text/plain": [
       "13109"
      ]
     },
     "execution_count": 5,
     "metadata": {},
     "output_type": "execute_result"
    }
   ],
   "source": [
    "len(documents)"
   ]
  },
  {
   "cell_type": "code",
   "execution_count": 7,
   "metadata": {},
   "outputs": [
    {
     "name": "stdout",
     "output_type": "stream",
     "text": [
      "picture\n"
     ]
    }
   ],
   "source": [
    "tree = eval(str(documents.iloc[0].spacy_tree))\n",
    "print(tree[0]['word'])"
   ]
  },
  {
   "cell_type": "code",
   "execution_count": null,
   "metadata": {
    "collapsed": true
   },
   "outputs": [],
   "source": []
  }
 ],
 "metadata": {
  "kernelspec": {
   "display_name": "Python 3",
   "language": "python",
   "name": "python3"
  },
  "language_info": {
   "codemirror_mode": {
    "name": "ipython",
    "version": 3
   },
   "file_extension": ".py",
   "mimetype": "text/x-python",
   "name": "python",
   "nbconvert_exporter": "python",
   "pygments_lexer": "ipython3",
   "version": "3.7.0"
  }
 },
 "nbformat": 4,
 "nbformat_minor": 2
}
