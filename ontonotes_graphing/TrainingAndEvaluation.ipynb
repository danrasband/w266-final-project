{
 "cells": [
  {
   "cell_type": "code",
   "execution_count": 1,
   "metadata": {},
   "outputs": [],
   "source": [
    "# Display\n",
    "from IPython.core.display import HTML\n",
    "from graphviz import Source\n",
    "\n",
    "# Utils\n",
    "import time\n",
    "from tqdm import tqdm\n",
    "\n",
    "# Metrics\n",
    "from sklearn.metrics import classification_report\n",
    "\n",
    "# Model\n",
    "import spacy\n",
    "from spacy import displacy\n",
    "import networkx as nx\n",
    "\n",
    "# Data\n",
    "import pandas as pd\n",
    "import csv\n",
    "import dill as pickle\n",
    "from helpers.data import train_dev_test_split_ids"
   ]
  },
  {
   "cell_type": "code",
   "execution_count": 2,
   "metadata": {},
   "outputs": [],
   "source": [
    "with open('entity_ids.pkl', 'rb') as file:\n",
    "    entity_ids = pickle.load(file)"
   ]
  },
  {
   "cell_type": "code",
   "execution_count": 3,
   "metadata": {},
   "outputs": [
    {
     "name": "stdout",
     "output_type": "stream",
     "text": [
      "Training set size: 113,227\n",
      "Dev set size: 32,350\n",
      "Test set size: 16,177\n"
     ]
    }
   ],
   "source": [
    "train, dev, test = train_dev_test_split_ids(entity_ids, train_portion=0.7, dev_portion=0.2, seed=42)\n",
    "\n",
    "print('Training set size: {:,}'.format(len(train)))\n",
    "print('Dev set size: {:,}'.format(len(dev)))\n",
    "print('Test set size: {:,}'.format(len(test)))"
   ]
  },
  {
   "cell_type": "code",
   "execution_count": 4,
   "metadata": {},
   "outputs": [
    {
     "name": "stdout",
     "output_type": "stream",
     "text": [
      "\"document_id\",\"sentence_index\",\"sentence\"\r\n",
      "\"bn/abc/00/abc_0008@0008@abc@bn@en@on\",0,\"The explosion in Yemen did not help an already tense situation in the Middle East , but there is the very slightest hope tonight , because there 's word of a possible Israeli / Palestinian summit in Egypt in the next several days .\"\r\n",
      "\"bn/abc/00/abc_0006@0006@abc@bn@en@on\",0,\"Still in Asia , President Clinton signed a bill today granting China permanent normal trade relations .\"\r\n",
      "\"bn/abc/00/abc_0006@0006@abc@bn@en@on\",1,\"This will end the annual review of China 's trade status and lower tariffs on Chinese imports .\"\r\n",
      "\"bn/abc/00/abc_0006@0006@abc@bn@en@on\",2,\"China , in return , has agreed to open its market wider to goods from the U.S .\"\r\n",
      "\"bn/abc/00/abc_0012@0012@abc@bn@en@on\",0,\"And in Yemen , the investigation into the bombing that killed 17 U.S. sailors continues as 33 injured sailors returned home today to Norfolk , Virginia .\"\r\n"
     ]
    }
   ],
   "source": [
    "! head -n 6 ../data/sentence.csv"
   ]
  },
  {
   "cell_type": "code",
   "execution_count": null,
   "metadata": {},
   "outputs": [],
   "source": []
  }
 ],
 "metadata": {
  "kernelspec": {
   "display_name": "Python 3",
   "language": "python",
   "name": "python3"
  },
  "language_info": {
   "codemirror_mode": {
    "name": "ipython",
    "version": 3
   },
   "file_extension": ".py",
   "mimetype": "text/x-python",
   "name": "python",
   "nbconvert_exporter": "python",
   "pygments_lexer": "ipython3",
   "version": "3.7.0"
  }
 },
 "nbformat": 4,
 "nbformat_minor": 2
}
