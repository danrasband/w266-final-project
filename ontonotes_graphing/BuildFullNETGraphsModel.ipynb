{
 "cells": [
  {
   "cell_type": "markdown",
   "metadata": {},
   "source": [
    "# Building the Full Graph"
   ]
  },
  {
   "cell_type": "code",
   "execution_count": 1,
   "metadata": {},
   "outputs": [
    {
     "name": "stdout",
     "output_type": "stream",
     "text": [
      "Name: en-coref-lg\n",
      "Version: 3.0.0\n",
      "Summary: Coref-added English multi-task CNN trained on OntoNotes, with GloVe vectors trained on Common Crawl. Assigns word vectors, context-specific token vectors, POS tags, dependency parse, named entities and coreference clusters.\n",
      "Home-page: https://huggingface.co\n",
      "Author: HuggingFace Inc. & Explosion AI\n",
      "Author-email: thomas@huggingface.co\n",
      "License: CC BY-SA 3.0\n",
      "Location: /home/dan/.pyenv/versions/3.7.0/lib/python3.7/site-packages\n",
      "Requires: spacy\n",
      "Required-by: \n"
     ]
    }
   ],
   "source": [
    "%%script bash\n",
    "# Install en_coref_lg if it hasn't been installed already.\n",
    "pip show en_coref_lg 2>/dev/null;\n",
    "if [ ! $? ]; then \n",
    "  pip install https://github.com/huggingface/neuralcoref-models/releases/download/en_coref_lg-3.0.0/en_coref_lg-3.0.0.tar.gz;\n",
    "  pip show en_coref_lg 2>/dev/null;\n",
    "fi"
   ]
  },
  {
   "cell_type": "code",
   "execution_count": 2,
   "metadata": {},
   "outputs": [],
   "source": [
    "# Models\n",
    "import spacy\n",
    "from spacy import displacy\n",
    "import en_coref_lg\n",
    "import networkx as nx\n",
    "\n",
    "# Data Wrangling\n",
    "import pandas as pd\n",
    "import csv\n",
    "import dill as pickle\n",
    "import helpers.data as data_helper\n",
    "import helpers.graph_generator as graph_generator\n",
    "\n",
    "# Utils\n",
    "import time\n",
    "from graphviz import Source\n",
    "from tqdm import tqdm\n",
    "from importlib import reload"
   ]
  },
  {
   "cell_type": "code",
   "execution_count": 3,
   "metadata": {},
   "outputs": [
    {
     "name": "stdout",
     "output_type": "stream",
     "text": [
      "CPU times: user 16.7 s, sys: 3.55 s, total: 20.3 s\n",
      "Wall time: 29.9 s\n"
     ]
    }
   ],
   "source": [
    "%%time\n",
    "\n",
    "nlp = en_coref_lg.load()"
   ]
  },
  {
   "cell_type": "code",
   "execution_count": 4,
   "metadata": {},
   "outputs": [
    {
     "name": "stdout",
     "output_type": "stream",
     "text": [
      "document.csv   entity_ids.pkl\tsentences-coref.pkl  www.glozman.com\r\n",
      "documents.pkl  name_entity.csv\tsentences.pkl\r\n",
      "download.sh    sentence.csv\ttrial_graph.pkl\r\n"
     ]
    }
   ],
   "source": [
    "! ls ../data"
   ]
  },
  {
   "cell_type": "code",
   "execution_count": 5,
   "metadata": {},
   "outputs": [
    {
     "name": "stdout",
     "output_type": "stream",
     "text": [
      "CPU times: user 27.4 s, sys: 792 ms, total: 28.2 s\n",
      "Wall time: 28.3 s\n"
     ]
    }
   ],
   "source": [
    "%%time\n",
    "\n",
    "entities = data_helper.get_labeled_data()"
   ]
  },
  {
   "cell_type": "code",
   "execution_count": 6,
   "metadata": {},
   "outputs": [
    {
     "data": {
      "text/html": [
       "<div>\n",
       "<style scoped>\n",
       "    .dataframe tbody tr th:only-of-type {\n",
       "        vertical-align: middle;\n",
       "    }\n",
       "\n",
       "    .dataframe tbody tr th {\n",
       "        vertical-align: top;\n",
       "    }\n",
       "\n",
       "    .dataframe thead th {\n",
       "        text-align: right;\n",
       "    }\n",
       "</style>\n",
       "<table border=\"1\" class=\"dataframe\">\n",
       "  <thead>\n",
       "    <tr style=\"text-align: right;\">\n",
       "      <th></th>\n",
       "      <th>document_id</th>\n",
       "      <th>type</th>\n",
       "      <th>sentence_index</th>\n",
       "      <th>start_word_index</th>\n",
       "      <th>end_word_index</th>\n",
       "      <th>string</th>\n",
       "      <th>sentence_id</th>\n",
       "    </tr>\n",
       "    <tr>\n",
       "      <th>entity_id</th>\n",
       "      <th></th>\n",
       "      <th></th>\n",
       "      <th></th>\n",
       "      <th></th>\n",
       "      <th></th>\n",
       "      <th></th>\n",
       "      <th></th>\n",
       "    </tr>\n",
       "  </thead>\n",
       "  <tbody>\n",
       "    <tr>\n",
       "      <th>bc/phoenix/00/phoenix_0000@0000@phoenix@bc@en@on:0:5:5</th>\n",
       "      <td>bc/phoenix/00/phoenix_0000@0000@phoenix@bc@en@on</td>\n",
       "      <td>ORDINAL</td>\n",
       "      <td>0</td>\n",
       "      <td>5</td>\n",
       "      <td>5</td>\n",
       "      <td>first</td>\n",
       "      <td>bc/phoenix/00/phoenix_0000@0000@phoenix@bc@en@...</td>\n",
       "    </tr>\n",
       "    <tr>\n",
       "      <th>bc/phoenix/00/phoenix_0000@0000@phoenix@bc@en@on:18:19:20</th>\n",
       "      <td>bc/phoenix/00/phoenix_0000@0000@phoenix@bc@en@on</td>\n",
       "      <td>PERSON</td>\n",
       "      <td>18</td>\n",
       "      <td>19</td>\n",
       "      <td>20</td>\n",
       "      <td>Ye Daying</td>\n",
       "      <td>bc/phoenix/00/phoenix_0000@0000@phoenix@bc@en@...</td>\n",
       "    </tr>\n",
       "    <tr>\n",
       "      <th>bc/phoenix/00/phoenix_0000@0000@phoenix@bc@en@on:18:47:48</th>\n",
       "      <td>bc/phoenix/00/phoenix_0000@0000@phoenix@bc@en@on</td>\n",
       "      <td>PERSON</td>\n",
       "      <td>18</td>\n",
       "      <td>47</td>\n",
       "      <td>48</td>\n",
       "      <td>Ye Ting</td>\n",
       "      <td>bc/phoenix/00/phoenix_0000@0000@phoenix@bc@en@...</td>\n",
       "    </tr>\n",
       "    <tr>\n",
       "      <th>bc/phoenix/00/phoenix_0000@0000@phoenix@bc@en@on:19:11:11</th>\n",
       "      <td>bc/phoenix/00/phoenix_0000@0000@phoenix@bc@en@on</td>\n",
       "      <td>ORDINAL</td>\n",
       "      <td>19</td>\n",
       "      <td>11</td>\n",
       "      <td>11</td>\n",
       "      <td>second</td>\n",
       "      <td>bc/phoenix/00/phoenix_0000@0000@phoenix@bc@en@...</td>\n",
       "    </tr>\n",
       "    <tr>\n",
       "      <th>bc/phoenix/00/phoenix_0000@0000@phoenix@bc@en@on:19:3:4</th>\n",
       "      <td>bc/phoenix/00/phoenix_0000@0000@phoenix@bc@en@on</td>\n",
       "      <td>PERSON</td>\n",
       "      <td>19</td>\n",
       "      <td>3</td>\n",
       "      <td>4</td>\n",
       "      <td>Ye Zhengming</td>\n",
       "      <td>bc/phoenix/00/phoenix_0000@0000@phoenix@bc@en@...</td>\n",
       "    </tr>\n",
       "  </tbody>\n",
       "</table>\n",
       "</div>"
      ],
      "text/plain": [
       "                                                                                         document_id  \\\n",
       "entity_id                                                                                              \n",
       "bc/phoenix/00/phoenix_0000@0000@phoenix@bc@en@o...  bc/phoenix/00/phoenix_0000@0000@phoenix@bc@en@on   \n",
       "bc/phoenix/00/phoenix_0000@0000@phoenix@bc@en@o...  bc/phoenix/00/phoenix_0000@0000@phoenix@bc@en@on   \n",
       "bc/phoenix/00/phoenix_0000@0000@phoenix@bc@en@o...  bc/phoenix/00/phoenix_0000@0000@phoenix@bc@en@on   \n",
       "bc/phoenix/00/phoenix_0000@0000@phoenix@bc@en@o...  bc/phoenix/00/phoenix_0000@0000@phoenix@bc@en@on   \n",
       "bc/phoenix/00/phoenix_0000@0000@phoenix@bc@en@o...  bc/phoenix/00/phoenix_0000@0000@phoenix@bc@en@on   \n",
       "\n",
       "                                                       type  sentence_index  \\\n",
       "entity_id                                                                     \n",
       "bc/phoenix/00/phoenix_0000@0000@phoenix@bc@en@o...  ORDINAL               0   \n",
       "bc/phoenix/00/phoenix_0000@0000@phoenix@bc@en@o...   PERSON              18   \n",
       "bc/phoenix/00/phoenix_0000@0000@phoenix@bc@en@o...   PERSON              18   \n",
       "bc/phoenix/00/phoenix_0000@0000@phoenix@bc@en@o...  ORDINAL              19   \n",
       "bc/phoenix/00/phoenix_0000@0000@phoenix@bc@en@o...   PERSON              19   \n",
       "\n",
       "                                                    start_word_index  \\\n",
       "entity_id                                                              \n",
       "bc/phoenix/00/phoenix_0000@0000@phoenix@bc@en@o...                 5   \n",
       "bc/phoenix/00/phoenix_0000@0000@phoenix@bc@en@o...                19   \n",
       "bc/phoenix/00/phoenix_0000@0000@phoenix@bc@en@o...                47   \n",
       "bc/phoenix/00/phoenix_0000@0000@phoenix@bc@en@o...                11   \n",
       "bc/phoenix/00/phoenix_0000@0000@phoenix@bc@en@o...                 3   \n",
       "\n",
       "                                                    end_word_index  \\\n",
       "entity_id                                                            \n",
       "bc/phoenix/00/phoenix_0000@0000@phoenix@bc@en@o...               5   \n",
       "bc/phoenix/00/phoenix_0000@0000@phoenix@bc@en@o...              20   \n",
       "bc/phoenix/00/phoenix_0000@0000@phoenix@bc@en@o...              48   \n",
       "bc/phoenix/00/phoenix_0000@0000@phoenix@bc@en@o...              11   \n",
       "bc/phoenix/00/phoenix_0000@0000@phoenix@bc@en@o...               4   \n",
       "\n",
       "                                                          string  \\\n",
       "entity_id                                                          \n",
       "bc/phoenix/00/phoenix_0000@0000@phoenix@bc@en@o...         first   \n",
       "bc/phoenix/00/phoenix_0000@0000@phoenix@bc@en@o...     Ye Daying   \n",
       "bc/phoenix/00/phoenix_0000@0000@phoenix@bc@en@o...       Ye Ting   \n",
       "bc/phoenix/00/phoenix_0000@0000@phoenix@bc@en@o...        second   \n",
       "bc/phoenix/00/phoenix_0000@0000@phoenix@bc@en@o...  Ye Zhengming   \n",
       "\n",
       "                                                                                          sentence_id  \n",
       "entity_id                                                                                              \n",
       "bc/phoenix/00/phoenix_0000@0000@phoenix@bc@en@o...  bc/phoenix/00/phoenix_0000@0000@phoenix@bc@en@...  \n",
       "bc/phoenix/00/phoenix_0000@0000@phoenix@bc@en@o...  bc/phoenix/00/phoenix_0000@0000@phoenix@bc@en@...  \n",
       "bc/phoenix/00/phoenix_0000@0000@phoenix@bc@en@o...  bc/phoenix/00/phoenix_0000@0000@phoenix@bc@en@...  \n",
       "bc/phoenix/00/phoenix_0000@0000@phoenix@bc@en@o...  bc/phoenix/00/phoenix_0000@0000@phoenix@bc@en@...  \n",
       "bc/phoenix/00/phoenix_0000@0000@phoenix@bc@en@o...  bc/phoenix/00/phoenix_0000@0000@phoenix@bc@en@...  "
      ]
     },
     "execution_count": 6,
     "metadata": {},
     "output_type": "execute_result"
    }
   ],
   "source": [
    "entities.head()"
   ]
  },
  {
   "cell_type": "code",
   "execution_count": 7,
   "metadata": {},
   "outputs": [
    {
     "name": "stdout",
     "output_type": "stream",
     "text": [
      "CPU times: user 11 s, sys: 196 ms, total: 11.2 s\n",
      "Wall time: 11.2 s\n"
     ]
    }
   ],
   "source": [
    "%%time\n",
    "\n",
    "sentences = data_helper.get_sentences()"
   ]
  },
  {
   "cell_type": "code",
   "execution_count": 8,
   "metadata": {},
   "outputs": [
    {
     "data": {
      "text/html": [
       "<div>\n",
       "<style scoped>\n",
       "    .dataframe tbody tr th:only-of-type {\n",
       "        vertical-align: middle;\n",
       "    }\n",
       "\n",
       "    .dataframe tbody tr th {\n",
       "        vertical-align: top;\n",
       "    }\n",
       "\n",
       "    .dataframe thead th {\n",
       "        text-align: right;\n",
       "    }\n",
       "</style>\n",
       "<table border=\"1\" class=\"dataframe\">\n",
       "  <thead>\n",
       "    <tr style=\"text-align: right;\">\n",
       "      <th></th>\n",
       "      <th>document_id</th>\n",
       "      <th>sentence_index</th>\n",
       "      <th>sentence</th>\n",
       "    </tr>\n",
       "    <tr>\n",
       "      <th>sentence_id</th>\n",
       "      <th></th>\n",
       "      <th></th>\n",
       "      <th></th>\n",
       "    </tr>\n",
       "  </thead>\n",
       "  <tbody>\n",
       "    <tr>\n",
       "      <th>bn/abc/00/abc_0008@0008@abc@bn@en@on:0</th>\n",
       "      <td>bn/abc/00/abc_0008@0008@abc@bn@en@on</td>\n",
       "      <td>0</td>\n",
       "      <td>The explosion in Yemen did not help an already...</td>\n",
       "    </tr>\n",
       "    <tr>\n",
       "      <th>bn/abc/00/abc_0006@0006@abc@bn@en@on:0</th>\n",
       "      <td>bn/abc/00/abc_0006@0006@abc@bn@en@on</td>\n",
       "      <td>0</td>\n",
       "      <td>Still in Asia , President Clinton signed a bil...</td>\n",
       "    </tr>\n",
       "    <tr>\n",
       "      <th>bn/abc/00/abc_0006@0006@abc@bn@en@on:1</th>\n",
       "      <td>bn/abc/00/abc_0006@0006@abc@bn@en@on</td>\n",
       "      <td>1</td>\n",
       "      <td>This will end the annual review of China 's tr...</td>\n",
       "    </tr>\n",
       "    <tr>\n",
       "      <th>bn/abc/00/abc_0006@0006@abc@bn@en@on:2</th>\n",
       "      <td>bn/abc/00/abc_0006@0006@abc@bn@en@on</td>\n",
       "      <td>2</td>\n",
       "      <td>China , in return , has agreed to open its mar...</td>\n",
       "    </tr>\n",
       "    <tr>\n",
       "      <th>bn/abc/00/abc_0012@0012@abc@bn@en@on:0</th>\n",
       "      <td>bn/abc/00/abc_0012@0012@abc@bn@en@on</td>\n",
       "      <td>0</td>\n",
       "      <td>And in Yemen , the investigation into the bomb...</td>\n",
       "    </tr>\n",
       "  </tbody>\n",
       "</table>\n",
       "</div>"
      ],
      "text/plain": [
       "                                                                 document_id  \\\n",
       "sentence_id                                                                    \n",
       "bn/abc/00/abc_0008@0008@abc@bn@en@on:0  bn/abc/00/abc_0008@0008@abc@bn@en@on   \n",
       "bn/abc/00/abc_0006@0006@abc@bn@en@on:0  bn/abc/00/abc_0006@0006@abc@bn@en@on   \n",
       "bn/abc/00/abc_0006@0006@abc@bn@en@on:1  bn/abc/00/abc_0006@0006@abc@bn@en@on   \n",
       "bn/abc/00/abc_0006@0006@abc@bn@en@on:2  bn/abc/00/abc_0006@0006@abc@bn@en@on   \n",
       "bn/abc/00/abc_0012@0012@abc@bn@en@on:0  bn/abc/00/abc_0012@0012@abc@bn@en@on   \n",
       "\n",
       "                                        sentence_index  \\\n",
       "sentence_id                                              \n",
       "bn/abc/00/abc_0008@0008@abc@bn@en@on:0               0   \n",
       "bn/abc/00/abc_0006@0006@abc@bn@en@on:0               0   \n",
       "bn/abc/00/abc_0006@0006@abc@bn@en@on:1               1   \n",
       "bn/abc/00/abc_0006@0006@abc@bn@en@on:2               2   \n",
       "bn/abc/00/abc_0012@0012@abc@bn@en@on:0               0   \n",
       "\n",
       "                                                                                 sentence  \n",
       "sentence_id                                                                                \n",
       "bn/abc/00/abc_0008@0008@abc@bn@en@on:0  The explosion in Yemen did not help an already...  \n",
       "bn/abc/00/abc_0006@0006@abc@bn@en@on:0  Still in Asia , President Clinton signed a bil...  \n",
       "bn/abc/00/abc_0006@0006@abc@bn@en@on:1  This will end the annual review of China 's tr...  \n",
       "bn/abc/00/abc_0006@0006@abc@bn@en@on:2  China , in return , has agreed to open its mar...  \n",
       "bn/abc/00/abc_0012@0012@abc@bn@en@on:0  And in Yemen , the investigation into the bomb...  "
      ]
     },
     "execution_count": 8,
     "metadata": {},
     "output_type": "execute_result"
    }
   ],
   "source": [
    "sentences.head()"
   ]
  },
  {
   "cell_type": "code",
   "execution_count": 9,
   "metadata": {},
   "outputs": [
    {
     "data": {
      "text/plain": [
       "100"
      ]
     },
     "execution_count": 9,
     "metadata": {},
     "output_type": "execute_result"
    }
   ],
   "source": [
    "trial_ents = entities.iloc[0:100]\n",
    "len(trial_ents)"
   ]
  },
  {
   "cell_type": "code",
   "execution_count": 10,
   "metadata": {},
   "outputs": [],
   "source": [
    "trial_ent_ids = list(zip(list(trial_ents.document_id), list(trial_ents.sentence_index)))"
   ]
  },
  {
   "cell_type": "code",
   "execution_count": 13,
   "metadata": {},
   "outputs": [
    {
     "data": {
      "text/plain": [
       "('bc/phoenix/00/phoenix_0000@0000@phoenix@bc@en@on', 25)"
      ]
     },
     "execution_count": 13,
     "metadata": {},
     "output_type": "execute_result"
    }
   ],
   "source": [
    "list(trial_ent_ids)[9]"
   ]
  },
  {
   "cell_type": "code",
   "execution_count": 14,
   "metadata": {},
   "outputs": [
    {
     "data": {
      "text/plain": [
       "100"
      ]
     },
     "execution_count": 14,
     "metadata": {},
     "output_type": "execute_result"
    }
   ],
   "source": [
    "len(trial_ent_ids)"
   ]
  },
  {
   "cell_type": "code",
   "execution_count": 15,
   "metadata": {},
   "outputs": [
    {
     "name": "stdout",
     "output_type": "stream",
     "text": [
      "CPU times: user 10.7 s, sys: 0 ns, total: 10.7 s\n",
      "Wall time: 10.7 s\n"
     ]
    }
   ],
   "source": [
    "%%time\n",
    "\n",
    "trial_sents = [sentence for _, sentence in sentences.iterrows() if (sentence.document_id, sentence.sentence_index) in trial_ent_ids]"
   ]
  },
  {
   "cell_type": "code",
   "execution_count": 16,
   "metadata": {},
   "outputs": [
    {
     "name": "stdout",
     "output_type": "stream",
     "text": [
      "50\n"
     ]
    }
   ],
   "source": [
    "print(len(trial_sents))\n",
    "trial_sents = pd.DataFrame(trial_sents, columns=['document_id', 'sentence_index', 'sentence'])"
   ]
  },
  {
   "cell_type": "code",
   "execution_count": 17,
   "metadata": {},
   "outputs": [
    {
     "name": "stderr",
     "output_type": "stream",
     "text": [
      "100%|██████████| 50/50 [00:02<00:00, 24.25it/s]\n"
     ]
    }
   ],
   "source": [
    "parsed_sentences = data_helper.parse_sentences(trial_sents, nlp=nlp)"
   ]
  },
  {
   "cell_type": "code",
   "execution_count": 18,
   "metadata": {},
   "outputs": [],
   "source": [
    "trial_sents['spacy_parsed'] = parsed_sentences"
   ]
  },
  {
   "cell_type": "code",
   "execution_count": 19,
   "metadata": {},
   "outputs": [
    {
     "data": {
      "text/plain": [
       "'ORDINAL'"
      ]
     },
     "execution_count": 19,
     "metadata": {},
     "output_type": "execute_result"
    }
   ],
   "source": [
    "trial_sents.iloc[0].spacy_parsed.ents[0].label_"
   ]
  },
  {
   "cell_type": "code",
   "execution_count": 20,
   "metadata": {},
   "outputs": [
    {
     "data": {
      "text/html": [
       "<div>\n",
       "<style scoped>\n",
       "    .dataframe tbody tr th:only-of-type {\n",
       "        vertical-align: middle;\n",
       "    }\n",
       "\n",
       "    .dataframe tbody tr th {\n",
       "        vertical-align: top;\n",
       "    }\n",
       "\n",
       "    .dataframe thead th {\n",
       "        text-align: right;\n",
       "    }\n",
       "</style>\n",
       "<table border=\"1\" class=\"dataframe\">\n",
       "  <thead>\n",
       "    <tr style=\"text-align: right;\">\n",
       "      <th></th>\n",
       "      <th>document_id</th>\n",
       "      <th>sentence_id</th>\n",
       "      <th>type</th>\n",
       "      <th>sentence_index</th>\n",
       "      <th>start_index</th>\n",
       "      <th>end_index</th>\n",
       "      <th>string</th>\n",
       "    </tr>\n",
       "    <tr>\n",
       "      <th>entity_id</th>\n",
       "      <th></th>\n",
       "      <th></th>\n",
       "      <th></th>\n",
       "      <th></th>\n",
       "      <th></th>\n",
       "      <th></th>\n",
       "      <th></th>\n",
       "    </tr>\n",
       "  </thead>\n",
       "  <tbody>\n",
       "    <tr>\n",
       "      <th>bc/phoenix/00/phoenix_0000@0000@phoenix@bc@en@on:0:5:5</th>\n",
       "      <td>bc/phoenix/00/phoenix_0000@0000@phoenix@bc@en@on</td>\n",
       "      <td>bc/phoenix/00/phoenix_0000@0000@phoenix@bc@en@...</td>\n",
       "      <td>ORDINAL</td>\n",
       "      <td>0</td>\n",
       "      <td>5</td>\n",
       "      <td>5</td>\n",
       "      <td>first</td>\n",
       "    </tr>\n",
       "    <tr>\n",
       "      <th>bc/phoenix/00/phoenix_0000@0000@phoenix@bc@en@on:18:20:21</th>\n",
       "      <td>bc/phoenix/00/phoenix_0000@0000@phoenix@bc@en@on</td>\n",
       "      <td>bc/phoenix/00/phoenix_0000@0000@phoenix@bc@en@...</td>\n",
       "      <td>PERSON</td>\n",
       "      <td>18</td>\n",
       "      <td>20</td>\n",
       "      <td>21</td>\n",
       "      <td>Ye Daying</td>\n",
       "    </tr>\n",
       "    <tr>\n",
       "      <th>bc/phoenix/00/phoenix_0000@0000@phoenix@bc@en@on:18:47:50</th>\n",
       "      <td>bc/phoenix/00/phoenix_0000@0000@phoenix@bc@en@on</td>\n",
       "      <td>bc/phoenix/00/phoenix_0000@0000@phoenix@bc@en@...</td>\n",
       "      <td>PERSON</td>\n",
       "      <td>18</td>\n",
       "      <td>47</td>\n",
       "      <td>50</td>\n",
       "      <td>Marshall Ye Ting 's</td>\n",
       "    </tr>\n",
       "    <tr>\n",
       "      <th>bc/phoenix/00/phoenix_0000@0000@phoenix@bc@en@on:19:3:4</th>\n",
       "      <td>bc/phoenix/00/phoenix_0000@0000@phoenix@bc@en@on</td>\n",
       "      <td>bc/phoenix/00/phoenix_0000@0000@phoenix@bc@en@...</td>\n",
       "      <td>PERSON</td>\n",
       "      <td>19</td>\n",
       "      <td>3</td>\n",
       "      <td>4</td>\n",
       "      <td>Ye Zhengming</td>\n",
       "    </tr>\n",
       "    <tr>\n",
       "      <th>bc/phoenix/00/phoenix_0000@0000@phoenix@bc@en@on:19:7:10</th>\n",
       "      <td>bc/phoenix/00/phoenix_0000@0000@phoenix@bc@en@on</td>\n",
       "      <td>bc/phoenix/00/phoenix_0000@0000@phoenix@bc@en@...</td>\n",
       "      <td>PERSON</td>\n",
       "      <td>19</td>\n",
       "      <td>7</td>\n",
       "      <td>10</td>\n",
       "      <td>Marshall Ye Ting 's</td>\n",
       "    </tr>\n",
       "  </tbody>\n",
       "</table>\n",
       "</div>"
      ],
      "text/plain": [
       "                                                                                         document_id  \\\n",
       "entity_id                                                                                              \n",
       "bc/phoenix/00/phoenix_0000@0000@phoenix@bc@en@o...  bc/phoenix/00/phoenix_0000@0000@phoenix@bc@en@on   \n",
       "bc/phoenix/00/phoenix_0000@0000@phoenix@bc@en@o...  bc/phoenix/00/phoenix_0000@0000@phoenix@bc@en@on   \n",
       "bc/phoenix/00/phoenix_0000@0000@phoenix@bc@en@o...  bc/phoenix/00/phoenix_0000@0000@phoenix@bc@en@on   \n",
       "bc/phoenix/00/phoenix_0000@0000@phoenix@bc@en@o...  bc/phoenix/00/phoenix_0000@0000@phoenix@bc@en@on   \n",
       "bc/phoenix/00/phoenix_0000@0000@phoenix@bc@en@o...  bc/phoenix/00/phoenix_0000@0000@phoenix@bc@en@on   \n",
       "\n",
       "                                                                                          sentence_id  \\\n",
       "entity_id                                                                                               \n",
       "bc/phoenix/00/phoenix_0000@0000@phoenix@bc@en@o...  bc/phoenix/00/phoenix_0000@0000@phoenix@bc@en@...   \n",
       "bc/phoenix/00/phoenix_0000@0000@phoenix@bc@en@o...  bc/phoenix/00/phoenix_0000@0000@phoenix@bc@en@...   \n",
       "bc/phoenix/00/phoenix_0000@0000@phoenix@bc@en@o...  bc/phoenix/00/phoenix_0000@0000@phoenix@bc@en@...   \n",
       "bc/phoenix/00/phoenix_0000@0000@phoenix@bc@en@o...  bc/phoenix/00/phoenix_0000@0000@phoenix@bc@en@...   \n",
       "bc/phoenix/00/phoenix_0000@0000@phoenix@bc@en@o...  bc/phoenix/00/phoenix_0000@0000@phoenix@bc@en@...   \n",
       "\n",
       "                                                       type sentence_index  \\\n",
       "entity_id                                                                    \n",
       "bc/phoenix/00/phoenix_0000@0000@phoenix@bc@en@o...  ORDINAL              0   \n",
       "bc/phoenix/00/phoenix_0000@0000@phoenix@bc@en@o...   PERSON             18   \n",
       "bc/phoenix/00/phoenix_0000@0000@phoenix@bc@en@o...   PERSON             18   \n",
       "bc/phoenix/00/phoenix_0000@0000@phoenix@bc@en@o...   PERSON             19   \n",
       "bc/phoenix/00/phoenix_0000@0000@phoenix@bc@en@o...   PERSON             19   \n",
       "\n",
       "                                                   start_index end_index  \\\n",
       "entity_id                                                                  \n",
       "bc/phoenix/00/phoenix_0000@0000@phoenix@bc@en@o...           5         5   \n",
       "bc/phoenix/00/phoenix_0000@0000@phoenix@bc@en@o...          20        21   \n",
       "bc/phoenix/00/phoenix_0000@0000@phoenix@bc@en@o...          47        50   \n",
       "bc/phoenix/00/phoenix_0000@0000@phoenix@bc@en@o...           3         4   \n",
       "bc/phoenix/00/phoenix_0000@0000@phoenix@bc@en@o...           7        10   \n",
       "\n",
       "                                                                 string  \n",
       "entity_id                                                                \n",
       "bc/phoenix/00/phoenix_0000@0000@phoenix@bc@en@o...                first  \n",
       "bc/phoenix/00/phoenix_0000@0000@phoenix@bc@en@o...            Ye Daying  \n",
       "bc/phoenix/00/phoenix_0000@0000@phoenix@bc@en@o...  Marshall Ye Ting 's  \n",
       "bc/phoenix/00/phoenix_0000@0000@phoenix@bc@en@o...         Ye Zhengming  \n",
       "bc/phoenix/00/phoenix_0000@0000@phoenix@bc@en@o...  Marshall Ye Ting 's  "
      ]
     },
     "execution_count": 20,
     "metadata": {},
     "output_type": "execute_result"
    }
   ],
   "source": [
    "inputs = data_helper.get_inputs_from_sentences(trial_sents)\n",
    "inputs.head()"
   ]
  },
  {
   "cell_type": "code",
   "execution_count": 21,
   "metadata": {},
   "outputs": [
    {
     "name": "stdout",
     "output_type": "stream",
     "text": [
      "CPU times: user 62 ms, sys: 214 µs, total: 62.3 ms\n",
      "Wall time: 59.6 ms\n"
     ]
    }
   ],
   "source": [
    "%%time\n",
    "\n",
    "trial_graph = graph_generator.generate_graph(inputs, trial_sents)"
   ]
  },
  {
   "cell_type": "code",
   "execution_count": 22,
   "metadata": {},
   "outputs": [
    {
     "data": {
      "text/plain": [
       "{'ORDINAL': <networkx.classes.digraph.DiGraph at 0x7f58bc8ee630>,\n",
       " 'PERSON': <networkx.classes.digraph.DiGraph at 0x7f58bc8ee9e8>,\n",
       " 'DATE': <networkx.classes.digraph.DiGraph at 0x7f58bc8ee5f8>,\n",
       " 'GPE': <networkx.classes.digraph.DiGraph at 0x7f58bc8eecf8>,\n",
       " 'NORP': <networkx.classes.digraph.DiGraph at 0x7f58bc8eeef0>,\n",
       " 'CARDINAL': <networkx.classes.digraph.DiGraph at 0x7f58bc8eefd0>,\n",
       " 'ORG': <networkx.classes.digraph.DiGraph at 0x7f58bc8df7f0>,\n",
       " 'LAW': <networkx.classes.digraph.DiGraph at 0x7f58bc8df8d0>,\n",
       " 'EVENT': <networkx.classes.digraph.DiGraph at 0x7f58bc8df9e8>,\n",
       " 'WORK_OF_ART': <networkx.classes.digraph.DiGraph at 0x7f58b9f7fd68>,\n",
       " 'PRODUCT': <networkx.classes.digraph.DiGraph at 0x7f58bcd67fd0>}"
      ]
     },
     "execution_count": 22,
     "metadata": {},
     "output_type": "execute_result"
    }
   ],
   "source": [
    "trial_graph"
   ]
  },
  {
   "cell_type": "code",
   "execution_count": 23,
   "metadata": {},
   "outputs": [],
   "source": [
    "with open('../data/trial_graph.pkl', 'wb') as file:\n",
    "    pickle.dump(trial_graph, file)"
   ]
  },
  {
   "cell_type": "code",
   "execution_count": 24,
   "metadata": {},
   "outputs": [
    {
     "name": "stdout",
     "output_type": "stream",
     "text": [
      "document.csv   entity_ids.pkl\tsentences-coref.pkl  www.glozman.com\r\n",
      "documents.pkl  name_entity.csv\tsentences.pkl\r\n",
      "download.sh    sentence.csv\ttrial_graph.pkl\r\n"
     ]
    }
   ],
   "source": [
    "!ls ../data"
   ]
  },
  {
   "cell_type": "code",
   "execution_count": 25,
   "metadata": {},
   "outputs": [],
   "source": [
    "with open('../data/trial_graph.pkl', 'rb') as file:\n",
    "    trial_graph_retrieved = pickle.load(file)"
   ]
  },
  {
   "cell_type": "code",
   "execution_count": 26,
   "metadata": {},
   "outputs": [
    {
     "data": {
      "text/plain": [
       "{'ORDINAL': <networkx.classes.digraph.DiGraph at 0x7f58d7f33b00>,\n",
       " 'PERSON': <networkx.classes.digraph.DiGraph at 0x7f58bf732940>,\n",
       " 'DATE': <networkx.classes.digraph.DiGraph at 0x7f58bf73d9e8>,\n",
       " 'GPE': <networkx.classes.digraph.DiGraph at 0x7f58bf7a85c0>,\n",
       " 'NORP': <networkx.classes.digraph.DiGraph at 0x7f58bf7c8898>,\n",
       " 'CARDINAL': <networkx.classes.digraph.DiGraph at 0x7f58bf7a5ef0>,\n",
       " 'ORG': <networkx.classes.digraph.DiGraph at 0x7f58d7f4bba8>,\n",
       " 'LAW': <networkx.classes.digraph.DiGraph at 0x7f58d7f4b898>,\n",
       " 'EVENT': <networkx.classes.digraph.DiGraph at 0x7f58d7f4b6a0>,\n",
       " 'WORK_OF_ART': <networkx.classes.digraph.DiGraph at 0x7f58d7f4b358>,\n",
       " 'PRODUCT': <networkx.classes.digraph.DiGraph at 0x7f58d7f4b1d0>}"
      ]
     },
     "execution_count": 26,
     "metadata": {},
     "output_type": "execute_result"
    }
   ],
   "source": [
    "trial_graph_retrieved"
   ]
  },
  {
   "cell_type": "code",
   "execution_count": null,
   "metadata": {},
   "outputs": [
    {
     "name": "stderr",
     "output_type": "stream",
     "text": [
      " 54%|█████▎    | 77231/143709 [41:39<29:54, 37.05it/s]  "
     ]
    }
   ],
   "source": [
    "%%time\n",
    "parsed_sentences = data_helper.parse_sentences(sentences, nlp=nlp)"
   ]
  },
  {
   "cell_type": "code",
   "execution_count": null,
   "metadata": {},
   "outputs": [],
   "source": [
    "graph = graph_generator.generate_graph(entities, sentences)"
   ]
  }
 ],
 "metadata": {
  "kernelspec": {
   "display_name": "Python 3",
   "language": "python",
   "name": "python3"
  },
  "language_info": {
   "codemirror_mode": {
    "name": "ipython",
    "version": 3
   },
   "file_extension": ".py",
   "mimetype": "text/x-python",
   "name": "python",
   "nbconvert_exporter": "python",
   "pygments_lexer": "ipython3",
   "version": "3.7.0"
  }
 },
 "nbformat": 4,
 "nbformat_minor": 2
}
