{
 "cells": [
  {
   "cell_type": "code",
   "execution_count": 128,
   "metadata": {},
   "outputs": [],
   "source": [
    "import spacy\n",
    "from spacy import displacy\n",
    "import pandas as pd\n",
    "import numpy as np\n",
    "import csv\n",
    "from tqdm import tqdm\n",
    "import dill as pickle\n",
    "from IPython.core.display import HTML\n",
    "import helpers.data as data_helper\n",
    "from importlib import reload\n",
    "from sklearn.metrics import classification_report, accuracy_score"
   ]
  },
  {
   "cell_type": "code",
   "execution_count": 129,
   "metadata": {},
   "outputs": [
    {
     "data": {
      "text/html": [
       "<div>\n",
       "<style scoped>\n",
       "    .dataframe tbody tr th:only-of-type {\n",
       "        vertical-align: middle;\n",
       "    }\n",
       "\n",
       "    .dataframe tbody tr th {\n",
       "        vertical-align: top;\n",
       "    }\n",
       "\n",
       "    .dataframe thead th {\n",
       "        text-align: right;\n",
       "    }\n",
       "</style>\n",
       "<table border=\"1\" class=\"dataframe\">\n",
       "  <thead>\n",
       "    <tr style=\"text-align: right;\">\n",
       "      <th></th>\n",
       "      <th>document_id</th>\n",
       "      <th>type</th>\n",
       "      <th>sentence_index</th>\n",
       "      <th>start_word_index</th>\n",
       "      <th>end_word_index</th>\n",
       "      <th>string</th>\n",
       "    </tr>\n",
       "    <tr>\n",
       "      <th>entity_id</th>\n",
       "      <th></th>\n",
       "      <th></th>\n",
       "      <th></th>\n",
       "      <th></th>\n",
       "      <th></th>\n",
       "      <th></th>\n",
       "    </tr>\n",
       "  </thead>\n",
       "  <tbody>\n",
       "    <tr>\n",
       "      <th>bc/phoenix/00/phoenix_0000@0000@phoenix@bc@en@on:5:5</th>\n",
       "      <td>bc/phoenix/00/phoenix_0000@0000@phoenix@bc@en@on</td>\n",
       "      <td>ORDINAL</td>\n",
       "      <td>0</td>\n",
       "      <td>5</td>\n",
       "      <td>5</td>\n",
       "      <td>first</td>\n",
       "    </tr>\n",
       "    <tr>\n",
       "      <th>bc/phoenix/00/phoenix_0000@0000@phoenix@bc@en@on:200:201</th>\n",
       "      <td>bc/phoenix/00/phoenix_0000@0000@phoenix@bc@en@on</td>\n",
       "      <td>PERSON</td>\n",
       "      <td>18</td>\n",
       "      <td>19</td>\n",
       "      <td>20</td>\n",
       "      <td>Ye Daying</td>\n",
       "    </tr>\n",
       "    <tr>\n",
       "      <th>bc/phoenix/00/phoenix_0000@0000@phoenix@bc@en@on:228:229</th>\n",
       "      <td>bc/phoenix/00/phoenix_0000@0000@phoenix@bc@en@on</td>\n",
       "      <td>PERSON</td>\n",
       "      <td>18</td>\n",
       "      <td>47</td>\n",
       "      <td>48</td>\n",
       "      <td>Ye Ting</td>\n",
       "    </tr>\n",
       "    <tr>\n",
       "      <th>bc/phoenix/00/phoenix_0000@0000@phoenix@bc@en@on:245:245</th>\n",
       "      <td>bc/phoenix/00/phoenix_0000@0000@phoenix@bc@en@on</td>\n",
       "      <td>ORDINAL</td>\n",
       "      <td>19</td>\n",
       "      <td>11</td>\n",
       "      <td>11</td>\n",
       "      <td>second</td>\n",
       "    </tr>\n",
       "    <tr>\n",
       "      <th>bc/phoenix/00/phoenix_0000@0000@phoenix@bc@en@on:237:238</th>\n",
       "      <td>bc/phoenix/00/phoenix_0000@0000@phoenix@bc@en@on</td>\n",
       "      <td>PERSON</td>\n",
       "      <td>19</td>\n",
       "      <td>3</td>\n",
       "      <td>4</td>\n",
       "      <td>Ye Zhengming</td>\n",
       "    </tr>\n",
       "  </tbody>\n",
       "</table>\n",
       "</div>"
      ],
      "text/plain": [
       "                                                                                         document_id  \\\n",
       "entity_id                                                                                              \n",
       "bc/phoenix/00/phoenix_0000@0000@phoenix@bc@en@o...  bc/phoenix/00/phoenix_0000@0000@phoenix@bc@en@on   \n",
       "bc/phoenix/00/phoenix_0000@0000@phoenix@bc@en@o...  bc/phoenix/00/phoenix_0000@0000@phoenix@bc@en@on   \n",
       "bc/phoenix/00/phoenix_0000@0000@phoenix@bc@en@o...  bc/phoenix/00/phoenix_0000@0000@phoenix@bc@en@on   \n",
       "bc/phoenix/00/phoenix_0000@0000@phoenix@bc@en@o...  bc/phoenix/00/phoenix_0000@0000@phoenix@bc@en@on   \n",
       "bc/phoenix/00/phoenix_0000@0000@phoenix@bc@en@o...  bc/phoenix/00/phoenix_0000@0000@phoenix@bc@en@on   \n",
       "\n",
       "                                                       type  sentence_index  \\\n",
       "entity_id                                                                     \n",
       "bc/phoenix/00/phoenix_0000@0000@phoenix@bc@en@o...  ORDINAL               0   \n",
       "bc/phoenix/00/phoenix_0000@0000@phoenix@bc@en@o...   PERSON              18   \n",
       "bc/phoenix/00/phoenix_0000@0000@phoenix@bc@en@o...   PERSON              18   \n",
       "bc/phoenix/00/phoenix_0000@0000@phoenix@bc@en@o...  ORDINAL              19   \n",
       "bc/phoenix/00/phoenix_0000@0000@phoenix@bc@en@o...   PERSON              19   \n",
       "\n",
       "                                                    start_word_index  \\\n",
       "entity_id                                                              \n",
       "bc/phoenix/00/phoenix_0000@0000@phoenix@bc@en@o...                 5   \n",
       "bc/phoenix/00/phoenix_0000@0000@phoenix@bc@en@o...                19   \n",
       "bc/phoenix/00/phoenix_0000@0000@phoenix@bc@en@o...                47   \n",
       "bc/phoenix/00/phoenix_0000@0000@phoenix@bc@en@o...                11   \n",
       "bc/phoenix/00/phoenix_0000@0000@phoenix@bc@en@o...                 3   \n",
       "\n",
       "                                                    end_word_index  \\\n",
       "entity_id                                                            \n",
       "bc/phoenix/00/phoenix_0000@0000@phoenix@bc@en@o...               5   \n",
       "bc/phoenix/00/phoenix_0000@0000@phoenix@bc@en@o...              20   \n",
       "bc/phoenix/00/phoenix_0000@0000@phoenix@bc@en@o...              48   \n",
       "bc/phoenix/00/phoenix_0000@0000@phoenix@bc@en@o...              11   \n",
       "bc/phoenix/00/phoenix_0000@0000@phoenix@bc@en@o...               4   \n",
       "\n",
       "                                                          string  \n",
       "entity_id                                                         \n",
       "bc/phoenix/00/phoenix_0000@0000@phoenix@bc@en@o...         first  \n",
       "bc/phoenix/00/phoenix_0000@0000@phoenix@bc@en@o...     Ye Daying  \n",
       "bc/phoenix/00/phoenix_0000@0000@phoenix@bc@en@o...       Ye Ting  \n",
       "bc/phoenix/00/phoenix_0000@0000@phoenix@bc@en@o...        second  \n",
       "bc/phoenix/00/phoenix_0000@0000@phoenix@bc@en@o...  Ye Zhengming  "
      ]
     },
     "execution_count": 129,
     "metadata": {},
     "output_type": "execute_result"
    }
   ],
   "source": [
    "reload(data_helper)\n",
    "Y_true = data_helper.get_labeled_data()\n",
    "Y_true.head()"
   ]
  },
  {
   "cell_type": "code",
   "execution_count": 130,
   "metadata": {},
   "outputs": [
    {
     "name": "stdout",
     "output_type": "stream",
     "text": [
      "worker/Y_pred.20181207.csv\r\n"
     ]
    }
   ],
   "source": [
    "!ls worker/*.csv"
   ]
  },
  {
   "cell_type": "code",
   "execution_count": 133,
   "metadata": {},
   "outputs": [
    {
     "data": {
      "text/html": [
       "<div>\n",
       "<style scoped>\n",
       "    .dataframe tbody tr th:only-of-type {\n",
       "        vertical-align: middle;\n",
       "    }\n",
       "\n",
       "    .dataframe tbody tr th {\n",
       "        vertical-align: top;\n",
       "    }\n",
       "\n",
       "    .dataframe thead th {\n",
       "        text-align: right;\n",
       "    }\n",
       "</style>\n",
       "<table border=\"1\" class=\"dataframe\">\n",
       "  <thead>\n",
       "    <tr style=\"text-align: right;\">\n",
       "      <th></th>\n",
       "      <th>prediction</th>\n",
       "    </tr>\n",
       "    <tr>\n",
       "      <th>entity_id</th>\n",
       "      <th></th>\n",
       "    </tr>\n",
       "  </thead>\n",
       "  <tbody>\n",
       "    <tr>\n",
       "      <th>wb/sel/94/sel_9442@9442@sel@wb@en@on:2:6</th>\n",
       "      <td>WORK_OF_ART</td>\n",
       "    </tr>\n",
       "    <tr>\n",
       "      <th>wb/sel/22/sel_2236@2236@sel@wb@en@on:10:10</th>\n",
       "      <td>FAC</td>\n",
       "    </tr>\n",
       "    <tr>\n",
       "      <th>pt/nt/57/nt_5701@5701@nt@pt@en@on:2:2</th>\n",
       "      <td>PERSON</td>\n",
       "    </tr>\n",
       "    <tr>\n",
       "      <th>pt/nt/57/nt_5701@5701@nt@pt@en@on:7:8</th>\n",
       "      <td>GPE</td>\n",
       "    </tr>\n",
       "    <tr>\n",
       "      <th>pt/nt/57/nt_5701@5701@nt@pt@en@on:12:12</th>\n",
       "      <td>PERSON</td>\n",
       "    </tr>\n",
       "  </tbody>\n",
       "</table>\n",
       "</div>"
      ],
      "text/plain": [
       "                                             prediction\n",
       "entity_id                                              \n",
       "wb/sel/94/sel_9442@9442@sel@wb@en@on:2:6    WORK_OF_ART\n",
       "wb/sel/22/sel_2236@2236@sel@wb@en@on:10:10          FAC\n",
       "pt/nt/57/nt_5701@5701@nt@pt@en@on:2:2            PERSON\n",
       "pt/nt/57/nt_5701@5701@nt@pt@en@on:7:8               GPE\n",
       "pt/nt/57/nt_5701@5701@nt@pt@en@on:12:12          PERSON"
      ]
     },
     "execution_count": 133,
     "metadata": {},
     "output_type": "execute_result"
    }
   ],
   "source": [
    "Y_pred = pd.read_csv('worker/Y_pred.20181207.csv')\n",
    "Y_pred = Y_pred.set_index('entity_id')\n",
    "Y_pred.head()"
   ]
  },
  {
   "cell_type": "code",
   "execution_count": 134,
   "metadata": {},
   "outputs": [
    {
     "data": {
      "text/html": [
       "<div>\n",
       "<style scoped>\n",
       "    .dataframe tbody tr th:only-of-type {\n",
       "        vertical-align: middle;\n",
       "    }\n",
       "\n",
       "    .dataframe tbody tr th {\n",
       "        vertical-align: top;\n",
       "    }\n",
       "\n",
       "    .dataframe thead th {\n",
       "        text-align: right;\n",
       "    }\n",
       "</style>\n",
       "<table border=\"1\" class=\"dataframe\">\n",
       "  <thead>\n",
       "    <tr style=\"text-align: right;\">\n",
       "      <th></th>\n",
       "      <th>document</th>\n",
       "    </tr>\n",
       "    <tr>\n",
       "      <th>document_id</th>\n",
       "      <th></th>\n",
       "    </tr>\n",
       "  </thead>\n",
       "  <tbody>\n",
       "    <tr>\n",
       "      <th>bc/cctv/00/cctv_0000@0000@cctv@bc@en@on</th>\n",
       "      <td>In the summer of 2005 , a picture that people ...</td>\n",
       "    </tr>\n",
       "    <tr>\n",
       "      <th>bc/cctv/00/cctv_0001@0001@cctv@bc@en@on</th>\n",
       "      <td>What kind of memory ? We respectfully invite y...</td>\n",
       "    </tr>\n",
       "    <tr>\n",
       "      <th>bc/cctv/00/cctv_0002@0002@cctv@bc@en@on</th>\n",
       "      <td>Abramov had a car accident in Moscow last nigh...</td>\n",
       "    </tr>\n",
       "    <tr>\n",
       "      <th>bc/cctv/00/cctv_0003@0003@cctv@bc@en@on</th>\n",
       "      <td>Hello , dear viewers . Welcome to Focus Today ...</td>\n",
       "    </tr>\n",
       "    <tr>\n",
       "      <th>bc/cctv/00/cctv_0004@0004@cctv@bc@en@on</th>\n",
       "      <td>There will be 120 million viewers tuning in to...</td>\n",
       "    </tr>\n",
       "  </tbody>\n",
       "</table>\n",
       "</div>"
      ],
      "text/plain": [
       "                                                                                  document\n",
       "document_id                                                                               \n",
       "bc/cctv/00/cctv_0000@0000@cctv@bc@en@on  In the summer of 2005 , a picture that people ...\n",
       "bc/cctv/00/cctv_0001@0001@cctv@bc@en@on  What kind of memory ? We respectfully invite y...\n",
       "bc/cctv/00/cctv_0002@0002@cctv@bc@en@on  Abramov had a car accident in Moscow last nigh...\n",
       "bc/cctv/00/cctv_0003@0003@cctv@bc@en@on  Hello , dear viewers . Welcome to Focus Today ...\n",
       "bc/cctv/00/cctv_0004@0004@cctv@bc@en@on  There will be 120 million viewers tuning in to..."
      ]
     },
     "execution_count": 134,
     "metadata": {},
     "output_type": "execute_result"
    }
   ],
   "source": [
    "documents = data_helper.get_documents()\n",
    "documents.head()"
   ]
  },
  {
   "cell_type": "code",
   "execution_count": 135,
   "metadata": {},
   "outputs": [],
   "source": [
    "def find_string_in_document(entity_id):\n",
    "    document_id, start_index, end_index = entity_id.split(':')\n",
    "    start_index = int(start_index)\n",
    "    end_index = int(end_index)\n",
    "    document = documents.loc[document_id]\n",
    "    words = document.document.split(' ')\n",
    "    return ' '.join(words[start_index:end_index+1])\n",
    "\n",
    "Y_pred['string'] = [find_string_in_document(entity_id) for entity_id, _ in Y_pred.iterrows()]"
   ]
  },
  {
   "cell_type": "code",
   "execution_count": 136,
   "metadata": {},
   "outputs": [
    {
     "data": {
      "text/html": [
       "<div>\n",
       "<style scoped>\n",
       "    .dataframe tbody tr th:only-of-type {\n",
       "        vertical-align: middle;\n",
       "    }\n",
       "\n",
       "    .dataframe tbody tr th {\n",
       "        vertical-align: top;\n",
       "    }\n",
       "\n",
       "    .dataframe thead th {\n",
       "        text-align: right;\n",
       "    }\n",
       "</style>\n",
       "<table border=\"1\" class=\"dataframe\">\n",
       "  <thead>\n",
       "    <tr style=\"text-align: right;\">\n",
       "      <th></th>\n",
       "      <th>prediction</th>\n",
       "      <th>string</th>\n",
       "    </tr>\n",
       "    <tr>\n",
       "      <th>entity_id</th>\n",
       "      <th></th>\n",
       "      <th></th>\n",
       "    </tr>\n",
       "  </thead>\n",
       "  <tbody>\n",
       "    <tr>\n",
       "      <th>wb/sel/94/sel_9442@9442@sel@wb@en@on:2:6</th>\n",
       "      <td>WORK_OF_ART</td>\n",
       "      <td>the United States of America</td>\n",
       "    </tr>\n",
       "    <tr>\n",
       "      <th>wb/sel/22/sel_2236@2236@sel@wb@en@on:10:10</th>\n",
       "      <td>FAC</td>\n",
       "      <td>State</td>\n",
       "    </tr>\n",
       "    <tr>\n",
       "      <th>pt/nt/57/nt_5701@5701@nt@pt@en@on:2:2</th>\n",
       "      <td>PERSON</td>\n",
       "      <td>Paul</td>\n",
       "    </tr>\n",
       "    <tr>\n",
       "      <th>pt/nt/57/nt_5701@5701@nt@pt@en@on:7:8</th>\n",
       "      <td>GPE</td>\n",
       "      <td>Jesus Christ</td>\n",
       "    </tr>\n",
       "    <tr>\n",
       "      <th>pt/nt/57/nt_5701@5701@nt@pt@en@on:12:12</th>\n",
       "      <td>PERSON</td>\n",
       "      <td>Timothy</td>\n",
       "    </tr>\n",
       "  </tbody>\n",
       "</table>\n",
       "</div>"
      ],
      "text/plain": [
       "                                             prediction  \\\n",
       "entity_id                                                 \n",
       "wb/sel/94/sel_9442@9442@sel@wb@en@on:2:6    WORK_OF_ART   \n",
       "wb/sel/22/sel_2236@2236@sel@wb@en@on:10:10          FAC   \n",
       "pt/nt/57/nt_5701@5701@nt@pt@en@on:2:2            PERSON   \n",
       "pt/nt/57/nt_5701@5701@nt@pt@en@on:7:8               GPE   \n",
       "pt/nt/57/nt_5701@5701@nt@pt@en@on:12:12          PERSON   \n",
       "\n",
       "                                                                  string  \n",
       "entity_id                                                                 \n",
       "wb/sel/94/sel_9442@9442@sel@wb@en@on:2:6    the United States of America  \n",
       "wb/sel/22/sel_2236@2236@sel@wb@en@on:10:10                         State  \n",
       "pt/nt/57/nt_5701@5701@nt@pt@en@on:2:2                               Paul  \n",
       "pt/nt/57/nt_5701@5701@nt@pt@en@on:7:8                       Jesus Christ  \n",
       "pt/nt/57/nt_5701@5701@nt@pt@en@on:12:12                          Timothy  "
      ]
     },
     "execution_count": 136,
     "metadata": {},
     "output_type": "execute_result"
    }
   ],
   "source": [
    "Y_pred.head()"
   ]
  },
  {
   "cell_type": "code",
   "execution_count": 137,
   "metadata": {},
   "outputs": [
    {
     "data": {
      "text/plain": [
       "prediction    WORK_OF_ART\n",
       "string            a month\n",
       "Name: wb/sel/51/sel_5132@5132@sel@wb@en@on:12:13, dtype: object"
      ]
     },
     "execution_count": 137,
     "metadata": {},
     "output_type": "execute_result"
    }
   ],
   "source": [
    "Y_pred.iloc[100]"
   ]
  },
  {
   "cell_type": "code",
   "execution_count": 138,
   "metadata": {},
   "outputs": [
    {
     "name": "stdout",
     "output_type": "stream",
     "text": [
      "dev_document_ids.pkl  download.sh\t\t  sentences.20181205.pkl\r\n",
      "doc0_ytrue.csv\t      entity_ids.pkl\t\t  test_document_ids.pkl\r\n",
      "document.csv\t      LP_NET_Graphs.20181205.pkl  train_document_ids.pkl\r\n",
      "documents_dev.pkl     LP_NET_Graphs.pkl\t\t  www.glozman.com\r\n",
      "documents.pkl\t      name_entity.csv\t\t  ypred.csv\r\n",
      "documents_test.pkl    NET_Graphs.pkl\t\t  Y_pred.csv\r\n",
      "documents_train.pkl   sentence.csv\t\t  Y_true.pkl\r\n"
     ]
    }
   ],
   "source": [
    "!ls ../data/"
   ]
  },
  {
   "cell_type": "code",
   "execution_count": 139,
   "metadata": {},
   "outputs": [
    {
     "data": {
      "text/plain": [
       "'wb/sel/23/sel_2368@2368@sel@wb@en@on'"
      ]
     },
     "execution_count": 139,
     "metadata": {},
     "output_type": "execute_result"
    }
   ],
   "source": [
    "with open('../data/dev_document_ids.pkl', 'rb') as file:\n",
    "    document_ids = pickle.load(file)\n",
    "\n",
    "document_ids[0]"
   ]
  },
  {
   "cell_type": "code",
   "execution_count": 140,
   "metadata": {},
   "outputs": [
    {
     "data": {
      "text/plain": [
       "32580"
      ]
     },
     "execution_count": 140,
     "metadata": {},
     "output_type": "execute_result"
    }
   ],
   "source": [
    "Y_true_dev = Y_true[Y_true.document_id.isin(document_ids)]\n",
    "len(Y_true_dev)"
   ]
  },
  {
   "cell_type": "code",
   "execution_count": 141,
   "metadata": {},
   "outputs": [
    {
     "data": {
      "text/html": [
       "<div>\n",
       "<style scoped>\n",
       "    .dataframe tbody tr th:only-of-type {\n",
       "        vertical-align: middle;\n",
       "    }\n",
       "\n",
       "    .dataframe tbody tr th {\n",
       "        vertical-align: top;\n",
       "    }\n",
       "\n",
       "    .dataframe thead th {\n",
       "        text-align: right;\n",
       "    }\n",
       "</style>\n",
       "<table border=\"1\" class=\"dataframe\">\n",
       "  <thead>\n",
       "    <tr style=\"text-align: right;\">\n",
       "      <th></th>\n",
       "      <th>prediction</th>\n",
       "      <th>string</th>\n",
       "    </tr>\n",
       "    <tr>\n",
       "      <th>entity_id</th>\n",
       "      <th></th>\n",
       "      <th></th>\n",
       "    </tr>\n",
       "  </thead>\n",
       "  <tbody>\n",
       "    <tr>\n",
       "      <th>wb/sel/94/sel_9442@9442@sel@wb@en@on:2:6</th>\n",
       "      <td>WORK_OF_ART</td>\n",
       "      <td>the United States of America</td>\n",
       "    </tr>\n",
       "    <tr>\n",
       "      <th>wb/sel/22/sel_2236@2236@sel@wb@en@on:10:10</th>\n",
       "      <td>FAC</td>\n",
       "      <td>State</td>\n",
       "    </tr>\n",
       "    <tr>\n",
       "      <th>pt/nt/57/nt_5701@5701@nt@pt@en@on:2:2</th>\n",
       "      <td>PERSON</td>\n",
       "      <td>Paul</td>\n",
       "    </tr>\n",
       "    <tr>\n",
       "      <th>pt/nt/57/nt_5701@5701@nt@pt@en@on:7:8</th>\n",
       "      <td>GPE</td>\n",
       "      <td>Jesus Christ</td>\n",
       "    </tr>\n",
       "    <tr>\n",
       "      <th>pt/nt/57/nt_5701@5701@nt@pt@en@on:12:12</th>\n",
       "      <td>PERSON</td>\n",
       "      <td>Timothy</td>\n",
       "    </tr>\n",
       "  </tbody>\n",
       "</table>\n",
       "</div>"
      ],
      "text/plain": [
       "                                             prediction  \\\n",
       "entity_id                                                 \n",
       "wb/sel/94/sel_9442@9442@sel@wb@en@on:2:6    WORK_OF_ART   \n",
       "wb/sel/22/sel_2236@2236@sel@wb@en@on:10:10          FAC   \n",
       "pt/nt/57/nt_5701@5701@nt@pt@en@on:2:2            PERSON   \n",
       "pt/nt/57/nt_5701@5701@nt@pt@en@on:7:8               GPE   \n",
       "pt/nt/57/nt_5701@5701@nt@pt@en@on:12:12          PERSON   \n",
       "\n",
       "                                                                  string  \n",
       "entity_id                                                                 \n",
       "wb/sel/94/sel_9442@9442@sel@wb@en@on:2:6    the United States of America  \n",
       "wb/sel/22/sel_2236@2236@sel@wb@en@on:10:10                         State  \n",
       "pt/nt/57/nt_5701@5701@nt@pt@en@on:2:2                               Paul  \n",
       "pt/nt/57/nt_5701@5701@nt@pt@en@on:7:8                       Jesus Christ  \n",
       "pt/nt/57/nt_5701@5701@nt@pt@en@on:12:12                          Timothy  "
      ]
     },
     "execution_count": 141,
     "metadata": {},
     "output_type": "execute_result"
    }
   ],
   "source": [
    "Y_pred.head()"
   ]
  },
  {
   "cell_type": "code",
   "execution_count": 142,
   "metadata": {},
   "outputs": [
    {
     "name": "stderr",
     "output_type": "stream",
     "text": [
      "100%|██████████| 53237/53237 [00:09<00:00, 5374.23it/s]\n"
     ]
    },
    {
     "data": {
      "text/plain": [
       "19323"
      ]
     },
     "metadata": {},
     "output_type": "display_data"
    },
    {
     "data": {
      "text/plain": [
       "19323"
      ]
     },
     "metadata": {},
     "output_type": "display_data"
    }
   ],
   "source": [
    "def build_comparison_matrix(y_true_df, y_pred_df):\n",
    "    Y_true = []\n",
    "    Y_pred = []\n",
    "    \n",
    "    entity_ids = set(list(y_true_df.index) + list(y_pred_df.index))\n",
    "    \n",
    "    for entity_id in tqdm(entity_ids):\n",
    "        try:\n",
    "            true_type = y_true_df.loc[entity_id].type\n",
    "            pred_type = y_pred_df.loc[entity_id].prediction\n",
    "        except KeyError:\n",
    "            continue\n",
    "\n",
    "        Y_true.append(true_type)\n",
    "        Y_pred.append(pred_type)\n",
    "    \n",
    "    return [Y_true, Y_pred]\n",
    "\n",
    "Y_true_list, Y_pred_list = build_comparison_matrix(Y_true_dev, Y_pred)\n",
    "display(len(Y_true_list))\n",
    "display(len(Y_pred_list))"
   ]
  },
  {
   "cell_type": "code",
   "execution_count": 144,
   "metadata": {
    "scrolled": true
   },
   "outputs": [
    {
     "name": "stdout",
     "output_type": "stream",
     "text": [
      "             precision    recall  f1-score   support\n",
      "\n",
      "   CARDINAL     0.2352    0.2448    0.2399      1601\n",
      "       DATE     0.4317    0.2719    0.3337      2883\n",
      "      EVENT     0.0169    0.0862    0.0283       116\n",
      "        FAC     0.0411    0.1208    0.0613       149\n",
      "        GPE     0.3546    0.2390    0.2856      3527\n",
      "   LANGUAGE     0.0167    0.4286    0.0321         7\n",
      "        LAW     0.0319    0.0923    0.0474        65\n",
      "        LOC     0.0364    0.0967    0.0529       300\n",
      "      MONEY     0.2891    0.4499    0.3521       829\n",
      "       NORP     0.2114    0.2855    0.2429      1408\n",
      "   NO_MATCH     0.0000    0.0000    0.0000         0\n",
      "    ORDINAL     0.0677    0.2222    0.1038       360\n",
      "        ORG     0.4378    0.1943    0.2691      3891\n",
      "    PERCENT     0.2041    0.1647    0.1823       668\n",
      "     PERSON     0.4257    0.3640    0.3924      2937\n",
      "    PRODUCT     0.0340    0.0977    0.0505       133\n",
      "   QUANTITY     0.0378    0.0924    0.0536       184\n",
      "       TIME     0.0525    0.1244    0.0739       201\n",
      "WORK_OF_ART     0.0166    0.1562    0.0300        64\n",
      "\n",
      "avg / total     0.3399    0.2557    0.2800     19323\n",
      "\n"
     ]
    },
    {
     "name": "stderr",
     "output_type": "stream",
     "text": [
      "/root/anaconda3/lib/python3.6/site-packages/sklearn/metrics/classification.py:1137: UndefinedMetricWarning: Recall and F-score are ill-defined and being set to 0.0 in labels with no true samples.\n",
      "  'recall', 'true', average, warn_for)\n"
     ]
    }
   ],
   "source": [
    "print(classification_report(Y_true_list, Y_pred_list, digits=4))"
   ]
  },
  {
   "cell_type": "code",
   "execution_count": 145,
   "metadata": {},
   "outputs": [
    {
     "name": "stdout",
     "output_type": "stream",
     "text": [
      "Accuracy:\n",
      "Category      Accuracy Support\n",
      "CARDINAL          24.5    1601\n",
      "DATE              27.2    2883\n",
      "EVENT              8.6     116\n",
      "FAC               12.1     149\n",
      "GPE               23.9    3527\n",
      "LANGUAGE          42.9       7\n",
      "LAW                9.2      65\n",
      "LOC                9.7     300\n",
      "MONEY             45.0     829\n",
      "NORP              28.6    1408\n",
      "ORDINAL           22.2     360\n",
      "ORG               19.4    3891\n",
      "PERCENT           16.5     668\n",
      "PERSON            36.4    2937\n",
      "PRODUCT            9.8     133\n",
      "QUANTITY           9.2     184\n",
      "TIME              12.4     201\n",
      "WORK_OF_ART       15.6      64\n"
     ]
    }
   ],
   "source": [
    "def per_category_accuracy_scores(y_true_df, y_pred_df):\n",
    "    print('Accuracy:')\n",
    "    print('{: <13} {: <8} {: <7}'.format('Category', 'Accuracy', 'Support'))\n",
    "    categories = ['CARDINAL', 'DATE', 'EVENT', 'FAC', 'GPE', 'LANGUAGE', 'LAW', \n",
    "                  'LOC', 'MONEY', 'NORP', 'ORDINAL', 'ORG', 'PERCENT', 'PERSON', \n",
    "                  'PRODUCT', 'QUANTITY', 'TIME', 'WORK_OF_ART']\n",
    "    for category in categories:\n",
    "        category_true = y_true_df[y_true_df.type == category]\n",
    "        Y_true = []\n",
    "        Y_pred = []\n",
    "        for entity_id, row in category_true.iterrows():\n",
    "            try:\n",
    "                true_type = y_true_df.loc[entity_id].type\n",
    "                pred_type = y_pred_df.loc[entity_id].prediction\n",
    "            except KeyError:\n",
    "                continue\n",
    "\n",
    "            Y_true.append(true_type)\n",
    "            Y_pred.append(pred_type)\n",
    "        print('{: <13} {:8.1f} {:7d}'.format(\n",
    "            category,\n",
    "            accuracy_score(Y_true, Y_pred) * 100,\n",
    "            len(Y_true)\n",
    "        ))\n",
    "        \n",
    "per_category_accuracy_scores(Y_true_dev, Y_pred)"
   ]
  },
  {
   "cell_type": "code",
   "execution_count": 146,
   "metadata": {},
   "outputs": [
    {
     "data": {
      "text/html": [
       "<div>\n",
       "<style scoped>\n",
       "    .dataframe tbody tr th:only-of-type {\n",
       "        vertical-align: middle;\n",
       "    }\n",
       "\n",
       "    .dataframe tbody tr th {\n",
       "        vertical-align: top;\n",
       "    }\n",
       "\n",
       "    .dataframe thead th {\n",
       "        text-align: right;\n",
       "    }\n",
       "</style>\n",
       "<table border=\"1\" class=\"dataframe\">\n",
       "  <thead>\n",
       "    <tr style=\"text-align: right;\">\n",
       "      <th></th>\n",
       "      <th>prediction</th>\n",
       "      <th>string</th>\n",
       "    </tr>\n",
       "    <tr>\n",
       "      <th>entity_id</th>\n",
       "      <th></th>\n",
       "      <th></th>\n",
       "    </tr>\n",
       "  </thead>\n",
       "  <tbody>\n",
       "    <tr>\n",
       "      <th>wb/sel/94/sel_9442@9442@sel@wb@en@on:2:6</th>\n",
       "      <td>WORK_OF_ART</td>\n",
       "      <td>the United States of America</td>\n",
       "    </tr>\n",
       "    <tr>\n",
       "      <th>wb/sel/22/sel_2236@2236@sel@wb@en@on:10:10</th>\n",
       "      <td>FAC</td>\n",
       "      <td>State</td>\n",
       "    </tr>\n",
       "    <tr>\n",
       "      <th>pt/nt/57/nt_5701@5701@nt@pt@en@on:2:2</th>\n",
       "      <td>PERSON</td>\n",
       "      <td>Paul</td>\n",
       "    </tr>\n",
       "    <tr>\n",
       "      <th>pt/nt/57/nt_5701@5701@nt@pt@en@on:7:8</th>\n",
       "      <td>GPE</td>\n",
       "      <td>Jesus Christ</td>\n",
       "    </tr>\n",
       "    <tr>\n",
       "      <th>pt/nt/57/nt_5701@5701@nt@pt@en@on:12:12</th>\n",
       "      <td>PERSON</td>\n",
       "      <td>Timothy</td>\n",
       "    </tr>\n",
       "  </tbody>\n",
       "</table>\n",
       "</div>"
      ],
      "text/plain": [
       "                                             prediction  \\\n",
       "entity_id                                                 \n",
       "wb/sel/94/sel_9442@9442@sel@wb@en@on:2:6    WORK_OF_ART   \n",
       "wb/sel/22/sel_2236@2236@sel@wb@en@on:10:10          FAC   \n",
       "pt/nt/57/nt_5701@5701@nt@pt@en@on:2:2            PERSON   \n",
       "pt/nt/57/nt_5701@5701@nt@pt@en@on:7:8               GPE   \n",
       "pt/nt/57/nt_5701@5701@nt@pt@en@on:12:12          PERSON   \n",
       "\n",
       "                                                                  string  \n",
       "entity_id                                                                 \n",
       "wb/sel/94/sel_9442@9442@sel@wb@en@on:2:6    the United States of America  \n",
       "wb/sel/22/sel_2236@2236@sel@wb@en@on:10:10                         State  \n",
       "pt/nt/57/nt_5701@5701@nt@pt@en@on:2:2                               Paul  \n",
       "pt/nt/57/nt_5701@5701@nt@pt@en@on:7:8                       Jesus Christ  \n",
       "pt/nt/57/nt_5701@5701@nt@pt@en@on:12:12                          Timothy  "
      ]
     },
     "execution_count": 146,
     "metadata": {},
     "output_type": "execute_result"
    }
   ],
   "source": [
    "Y_pred.head()"
   ]
  },
  {
   "cell_type": "code",
   "execution_count": 147,
   "metadata": {},
   "outputs": [
    {
     "data": {
      "text/plain": [
       "420"
      ]
     },
     "execution_count": 147,
     "metadata": {},
     "output_type": "execute_result"
    }
   ],
   "source": [
    "len(Y_pred[Y_pred.prediction == 'NO_MATCH'])"
   ]
  },
  {
   "cell_type": "code",
   "execution_count": null,
   "metadata": {},
   "outputs": [],
   "source": []
  }
 ],
 "metadata": {
  "kernelspec": {
   "display_name": "Python 3",
   "language": "python",
   "name": "python3"
  },
  "language_info": {
   "codemirror_mode": {
    "name": "ipython",
    "version": 3
   },
   "file_extension": ".py",
   "mimetype": "text/x-python",
   "name": "python",
   "nbconvert_exporter": "python",
   "pygments_lexer": "ipython3",
   "version": "3.6.5"
  }
 },
 "nbformat": 4,
 "nbformat_minor": 2
}
