{
 "cells": [
  {
   "cell_type": "code",
   "execution_count": null,
   "metadata": {},
   "outputs": [],
   "source": [
    "!pip install spacy==2.0.13 # Above 2.0.13 doesn't work with the neuralcoref resolution\n",
    "!pip install https://github.com/huggingface/neuralcoref-models/releases/download/en_coref_md-3.0.0/en_coref_md-3.0.0.tar.gz # This is the coref language model\n",
    "!pip install networkx\n",
    "!pip install pydot # To draw our graphs in graphviz\n",
    "!pip install graphviz"
   ]
  },
  {
   "cell_type": "code",
   "execution_count": 4,
   "metadata": {},
   "outputs": [
    {
     "name": "stdout",
     "output_type": "stream",
     "text": [
      "[nltk_data] Downloading package punkt to /root/nltk_data...\n",
      "[nltk_data]   Package punkt is already up-to-date!\n",
      "[nltk_data] Downloading package averaged_perceptron_tagger to\n",
      "[nltk_data]     /root/nltk_data...\n",
      "[nltk_data]   Package averaged_perceptron_tagger is already up-to-\n",
      "[nltk_data]       date!\n"
     ]
    }
   ],
   "source": [
    "import spacy\n",
    "from spacy import displacy\n",
    "from collections import Counter\n",
    "import re\n",
    "import os\n",
    "import pandas as pd\n",
    "import networkx as nx\n",
    "import sys\n",
    "import pydot\n",
    "import matplotlib.pyplot as plt\n",
    "import graphviz\n",
    "\n",
    "# Utils\n",
    "from tqdm import tqdm\n",
    "from collections import defaultdict\n",
    "\n",
    "# NLTK Stuff\n",
    "import nltk\n",
    "nltk.download('punkt')\n",
    "nltk.download('averaged_perceptron_tagger')\n",
    "from nltk.data import load as nltk_load\n",
    "from nltk.tokenize import word_tokenize\n",
    "from nltk.tokenize.treebank import TreebankWordTokenizer"
   ]
  },
  {
   "cell_type": "code",
   "execution_count": 31,
   "metadata": {},
   "outputs": [
    {
     "name": "stdout",
     "output_type": "stream",
     "text": [
      "Harry Potter and the Sorcerer's Stone\n",
      "\n",
      "CHAPTER ONE\n",
      "\n",
      "THE BOY WHO LIVED\n",
      "\n",
      "Mr. and Mrs. Dursley, of number four, Privet Drive, were proud to say that they were perfectly normal, thank you very much. They were the last people you'd expect to be involved in anything strange or mysterious, because they just didn't hold with such nonsense.\n",
      "\n",
      "Mr. Dursley was the director of a firm called Grunnings, which made drills. He was a big, beefy man with hardly any neck, although he did have a very large mustache.\n",
      "\n",
      "...\n",
      "\n",
      "boy, we haven't got all day.\" He walked away.\n",
      "\n",
      "Harry hung back for a last word with Ron and Hermione.\n",
      "\n",
      "\"See you over the summer, then.\"\n",
      "\n",
      "\"Hope you have -- er -- a good holiday,\" said Hermione, looking uncertainly after Uncle Vernon, shocked that anyone could be so unpleasant.\n",
      "\n",
      "\"Oh, I will,\" said Harry, and they were surprised at the grin that was spreading over his face. \"They don't know we're not allowed to use magic at home. I'm going to have a lot of fun with Dudley this summer....\"\n",
      "\n",
      "THE END\n",
      "\n",
      "Length: 439712\n"
     ]
    }
   ],
   "source": [
    "ROOT_DIR = '../../..'\n",
    "\n",
    "HP1_PATH = ROOT_DIR + '/data/www.glozman.com/harry_potter_1_sorcerer_s_stone.txt'\n",
    "\n",
    "text_file = open(HP1_PATH, mode='r', encoding='utf-8')\n",
    "text = text_file.read()\n",
    "text_file.close()\n",
    "\n",
    "# text = re.sub(r'(?:[A-Z]{2,}\\s+)', '', text)\n",
    "# text = text[39:]\n",
    "\n",
    "chapters = re.split(r\"CHAPTER [A-Z]*[\\n\\r\\s]*[A-Z\\s]*[\\n\\r]\", text)\n",
    "\n",
    "print(text[0:500])\n",
    "print('\\n...\\n')\n",
    "print(text[-500:])\n",
    "print('Length: {}'.format(len(text)))"
   ]
  },
  {
   "cell_type": "code",
   "execution_count": 6,
   "metadata": {},
   "outputs": [
    {
     "name": "stdout",
     "output_type": "stream",
     "text": [
      "Requirement already satisfied: en_core_web_md==2.0.0 from https://github.com/explosion/spacy-models/releases/download/en_core_web_md-2.0.0/en_core_web_md-2.0.0.tar.gz#egg=en_core_web_md==2.0.0 in /root/anaconda3/lib/python3.6/site-packages (2.0.0)\n",
      "\n",
      "\u001b[93m    Linking successful\u001b[0m\n",
      "    /root/anaconda3/lib/python3.6/site-packages/en_core_web_md -->\n",
      "    /root/anaconda3/lib/python3.6/site-packages/spacy/data/en_core_web_md\n",
      "\n",
      "    You can now load the model via spacy.load('en_core_web_md')\n",
      "\n"
     ]
    }
   ],
   "source": [
    "! python -m spacy download en_core_web_md"
   ]
  },
  {
   "cell_type": "code",
   "execution_count": 7,
   "metadata": {},
   "outputs": [
    {
     "name": "stdout",
     "output_type": "stream",
     "text": [
      "['Harry', 'Potter', 'and', 'the', 'Sorcerer', \"'s\", 'Stone', 'CHAPTER', 'ONE', 'THE', 'BOY', 'WHO', 'LIVED', 'Mr.', 'and', 'Mrs.', 'Dursley', ',', 'of', 'number', 'four', ',', 'Privet', 'Drive', ',', 'were', 'proud', 'to', 'say', 'that', 'they', 'were', 'perfectly', 'normal', ',', 'thank', 'you', 'very', 'much', '.', 'They', 'were', 'the', 'last', 'people', 'you', \"'d\", 'expect', 'to', 'be', 'involved', 'in', 'anything', 'strange', 'or', 'mysterious', ',', 'because', 'they', 'just', 'did', \"n't\", 'hold', 'with', 'such', 'nonsense', '.', 'Mr.', 'Dursley', 'was', 'the', 'director', 'of', 'a', 'firm', 'called', 'Grunnings', ',', 'which', 'made', 'drills', '.', 'He', 'was', 'a', 'big', ',', 'beefy', 'man', 'with', 'hardly', 'any', 'neck', ',', 'although', 'he', 'did', 'have', 'a', 'very']\n"
     ]
    }
   ],
   "source": [
    "tokens = word_tokenize(text)\n",
    "print(tokens[0:100])"
   ]
  },
  {
   "cell_type": "code",
   "execution_count": 8,
   "metadata": {},
   "outputs": [
    {
     "name": "stdout",
     "output_type": "stream",
     "text": [
      "Harry Potter and the Sorcerer's Stone CHAPTER ONE THE BOY WHO LIVED Mr. and Mrs. Dursley, of number four, Privet Drive, were proud to say that they were perfectly normal, thank you very much.\n",
      "\n",
      "They were the last people you'd expect to be involved in anything strange or mysterious, because they just didn't hold with such nonsense.\n",
      "\n",
      "Mr. Dursley was the director of a firm called Grunnings, which made drills.\n"
     ]
    }
   ],
   "source": [
    "def sentence_tokenize(text):\n",
    "    \"\"\"\n",
    "    Return a sentence-tokenized copy of *text*,\n",
    "    using NLTK's recommended sentence tokenizer\n",
    "    (currently :class:`.PunktSentenceTokenizer`\n",
    "    for the specified language).\n",
    "\n",
    "    :param text: text to split into sentences\n",
    "    :param language: the model name in the Punkt corpus\n",
    "    \"\"\"\n",
    "    tokenizer = nltk_load('../nltk_data/tokenizers/punkt/english.pickle')\n",
    "    return tokenizer.tokenize(text)\n",
    "\n",
    "\n",
    "sentences = sentence_tokenize(re.sub(r'\\s+', ' ', text))\n",
    "print('\\n\\n'.join(sentences[:3]))"
   ]
  },
  {
   "cell_type": "code",
   "execution_count": 9,
   "metadata": {},
   "outputs": [],
   "source": [
    "# Use that file to process the text into a doc.\n",
    "nlp = spacy.load('en_core_web_md')"
   ]
  },
  {
   "cell_type": "code",
   "execution_count": 10,
   "metadata": {},
   "outputs": [
    {
     "name": "stderr",
     "output_type": "stream",
     "text": [
      "100%|██████████| 6394/6394 [01:07<00:00, 83.72it/s] "
     ]
    },
    {
     "name": "stdout",
     "output_type": "stream",
     "text": [
      "Harry Potter and the Sorcerer's Stone CHAPTER ONE THE BOY WHO LIVED Mr. and Mrs. Dursley, of number four, Privet Drive, were proud to say that they were perfectly normal, thank you very much.\n"
     ]
    },
    {
     "name": "stderr",
     "output_type": "stream",
     "text": [
      "\n"
     ]
    }
   ],
   "source": [
    "docs = [nlp(sentence) for sentence in tqdm(sentences)]\n",
    "print(docs[0])"
   ]
  },
  {
   "cell_type": "code",
   "execution_count": 11,
   "metadata": {},
   "outputs": [],
   "source": [
    "import csv"
   ]
  },
  {
   "cell_type": "code",
   "execution_count": 12,
   "metadata": {},
   "outputs": [],
   "source": [
    "with open('entities.csv', 'w') as csvfile:\n",
    "    writer = csv.writer(csvfile, delimiter=',', quotechar='\"', quoting=csv.QUOTE_MINIMAL)\n",
    "    writer.writerow(['token', 'label', 'start_char', 'end_char', 'context'])\n",
    "    for doc in docs:\n",
    "        for ent in doc.ents:\n",
    "            writer.writerow([ent.text, str(ent.label_), str(ent.start_char), str(ent.end_char), str(doc)])"
   ]
  },
  {
   "cell_type": "code",
   "execution_count": 13,
   "metadata": {},
   "outputs": [],
   "source": [
    "entities = pd.read_csv('entities.csv')"
   ]
  },
  {
   "cell_type": "code",
   "execution_count": 14,
   "metadata": {},
   "outputs": [
    {
     "data": {
      "text/html": [
       "<div>\n",
       "<style scoped>\n",
       "    .dataframe tbody tr th:only-of-type {\n",
       "        vertical-align: middle;\n",
       "    }\n",
       "\n",
       "    .dataframe tbody tr th {\n",
       "        vertical-align: top;\n",
       "    }\n",
       "\n",
       "    .dataframe thead th {\n",
       "        text-align: right;\n",
       "    }\n",
       "</style>\n",
       "<table border=\"1\" class=\"dataframe\">\n",
       "  <thead>\n",
       "    <tr style=\"text-align: right;\">\n",
       "      <th></th>\n",
       "      <th>token</th>\n",
       "      <th>label</th>\n",
       "      <th>start_char</th>\n",
       "      <th>end_char</th>\n",
       "      <th>context</th>\n",
       "    </tr>\n",
       "  </thead>\n",
       "  <tbody>\n",
       "    <tr>\n",
       "      <th>0</th>\n",
       "      <td>Harry Potter</td>\n",
       "      <td>PERSON</td>\n",
       "      <td>0</td>\n",
       "      <td>12</td>\n",
       "      <td>Harry Potter and the Sorcerer's Stone CHAPTER ...</td>\n",
       "    </tr>\n",
       "    <tr>\n",
       "      <th>1</th>\n",
       "      <td>the Sorcerer's Stone CHAPTER</td>\n",
       "      <td>ORG</td>\n",
       "      <td>17</td>\n",
       "      <td>45</td>\n",
       "      <td>Harry Potter and the Sorcerer's Stone CHAPTER ...</td>\n",
       "    </tr>\n",
       "    <tr>\n",
       "      <th>2</th>\n",
       "      <td>ONE</td>\n",
       "      <td>CARDINAL</td>\n",
       "      <td>46</td>\n",
       "      <td>49</td>\n",
       "      <td>Harry Potter and the Sorcerer's Stone CHAPTER ...</td>\n",
       "    </tr>\n",
       "    <tr>\n",
       "      <th>3</th>\n",
       "      <td>Dursley</td>\n",
       "      <td>PERSON</td>\n",
       "      <td>81</td>\n",
       "      <td>88</td>\n",
       "      <td>Harry Potter and the Sorcerer's Stone CHAPTER ...</td>\n",
       "    </tr>\n",
       "    <tr>\n",
       "      <th>4</th>\n",
       "      <td>four</td>\n",
       "      <td>CARDINAL</td>\n",
       "      <td>100</td>\n",
       "      <td>104</td>\n",
       "      <td>Harry Potter and the Sorcerer's Stone CHAPTER ...</td>\n",
       "    </tr>\n",
       "  </tbody>\n",
       "</table>\n",
       "</div>"
      ],
      "text/plain": [
       "                          token     label  start_char  end_char  \\\n",
       "0                  Harry Potter    PERSON           0        12   \n",
       "1  the Sorcerer's Stone CHAPTER       ORG          17        45   \n",
       "2                           ONE  CARDINAL          46        49   \n",
       "3                       Dursley    PERSON          81        88   \n",
       "4                          four  CARDINAL         100       104   \n",
       "\n",
       "                                             context  \n",
       "0  Harry Potter and the Sorcerer's Stone CHAPTER ...  \n",
       "1  Harry Potter and the Sorcerer's Stone CHAPTER ...  \n",
       "2  Harry Potter and the Sorcerer's Stone CHAPTER ...  \n",
       "3  Harry Potter and the Sorcerer's Stone CHAPTER ...  \n",
       "4  Harry Potter and the Sorcerer's Stone CHAPTER ...  "
      ]
     },
     "execution_count": 14,
     "metadata": {},
     "output_type": "execute_result"
    }
   ],
   "source": [
    "entities.head()"
   ]
  },
  {
   "cell_type": "code",
   "execution_count": 15,
   "metadata": {},
   "outputs": [
    {
     "data": {
      "text/html": [
       "<div>\n",
       "<style scoped>\n",
       "    .dataframe tbody tr th:only-of-type {\n",
       "        vertical-align: middle;\n",
       "    }\n",
       "\n",
       "    .dataframe tbody tr th {\n",
       "        vertical-align: top;\n",
       "    }\n",
       "\n",
       "    .dataframe thead th {\n",
       "        text-align: right;\n",
       "    }\n",
       "</style>\n",
       "<table border=\"1\" class=\"dataframe\">\n",
       "  <thead>\n",
       "    <tr style=\"text-align: right;\">\n",
       "      <th></th>\n",
       "      <th>token</th>\n",
       "      <th>label</th>\n",
       "      <th>start_char</th>\n",
       "      <th>end_char</th>\n",
       "      <th>context</th>\n",
       "    </tr>\n",
       "  </thead>\n",
       "  <tbody>\n",
       "    <tr>\n",
       "      <th>200</th>\n",
       "      <td>Hagrid</td>\n",
       "      <td>PERSON</td>\n",
       "      <td>95</td>\n",
       "      <td>101</td>\n",
       "      <td>It must have made sense to Dumbledore, though,...</td>\n",
       "    </tr>\n",
       "    <tr>\n",
       "      <th>220</th>\n",
       "      <td>Hagrid</td>\n",
       "      <td>PERSON</td>\n",
       "      <td>1</td>\n",
       "      <td>7</td>\n",
       "      <td>\"Hagrid's bringing him.\"</td>\n",
       "    </tr>\n",
       "    <tr>\n",
       "      <th>221</th>\n",
       "      <td>Hagrid</td>\n",
       "      <td>PERSON</td>\n",
       "      <td>34</td>\n",
       "      <td>40</td>\n",
       "      <td>\"You think it -- wise -- to trust Hagrid with ...</td>\n",
       "    </tr>\n",
       "    <tr>\n",
       "      <th>222</th>\n",
       "      <td>Hagrid</td>\n",
       "      <td>PERSON</td>\n",
       "      <td>14</td>\n",
       "      <td>20</td>\n",
       "      <td>I would trust Hagrid with my life,\" said Dumbl...</td>\n",
       "    </tr>\n",
       "    <tr>\n",
       "      <th>226</th>\n",
       "      <td>Hagrid</td>\n",
       "      <td>PERSON</td>\n",
       "      <td>1</td>\n",
       "      <td>7</td>\n",
       "      <td>\"Hagrid,\" said Dumbledore, sounding relieved.</td>\n",
       "    </tr>\n",
       "  </tbody>\n",
       "</table>\n",
       "</div>"
      ],
      "text/plain": [
       "      token   label  start_char  end_char  \\\n",
       "200  Hagrid  PERSON          95       101   \n",
       "220  Hagrid  PERSON           1         7   \n",
       "221  Hagrid  PERSON          34        40   \n",
       "222  Hagrid  PERSON          14        20   \n",
       "226  Hagrid  PERSON           1         7   \n",
       "\n",
       "                                               context  \n",
       "200  It must have made sense to Dumbledore, though,...  \n",
       "220                           \"Hagrid's bringing him.\"  \n",
       "221  \"You think it -- wise -- to trust Hagrid with ...  \n",
       "222  I would trust Hagrid with my life,\" said Dumbl...  \n",
       "226      \"Hagrid,\" said Dumbledore, sounding relieved.  "
      ]
     },
     "execution_count": 15,
     "metadata": {},
     "output_type": "execute_result"
    }
   ],
   "source": [
    "entities[entities.token == 'Hagrid'].head()"
   ]
  },
  {
   "cell_type": "code",
   "execution_count": 16,
   "metadata": {},
   "outputs": [],
   "source": [
    "counts = defaultdict(lambda: defaultdict(lambda: 0))\n",
    "for index, row in entities.iterrows():\n",
    "    counts[row.token][row.label] += 1\n",
    "    counts[row.token]['TOTAL'] += 1"
   ]
  },
  {
   "cell_type": "code",
   "execution_count": 17,
   "metadata": {},
   "outputs": [],
   "source": [
    "with open('entity_counts.csv', 'w') as csvfile:\n",
    "    writer = csv.writer(csvfile, delimiter=',', quotechar='\"', quoting=csv.QUOTE_MINIMAL)\n",
    "    writer.writerow(['token', 'entity', 'count', 'percentage'])\n",
    "    for token, entity_counts in counts.items():\n",
    "        for entity, count in entity_counts.items():\n",
    "            if entity == 'TOTAL': continue\n",
    "            writer.writerow([token, entity, str(count), '{:0.1f}%'.format(count / entity_counts['TOTAL'] * 100)])"
   ]
  },
  {
   "cell_type": "code",
   "execution_count": 18,
   "metadata": {},
   "outputs": [
    {
     "data": {
      "text/html": [
       "<div>\n",
       "<style scoped>\n",
       "    .dataframe tbody tr th:only-of-type {\n",
       "        vertical-align: middle;\n",
       "    }\n",
       "\n",
       "    .dataframe tbody tr th {\n",
       "        vertical-align: top;\n",
       "    }\n",
       "\n",
       "    .dataframe thead th {\n",
       "        text-align: right;\n",
       "    }\n",
       "</style>\n",
       "<table border=\"1\" class=\"dataframe\">\n",
       "  <thead>\n",
       "    <tr style=\"text-align: right;\">\n",
       "      <th></th>\n",
       "      <th>token</th>\n",
       "      <th>entity</th>\n",
       "      <th>count</th>\n",
       "      <th>percentage</th>\n",
       "    </tr>\n",
       "  </thead>\n",
       "  <tbody>\n",
       "    <tr>\n",
       "      <th>0</th>\n",
       "      <td>Harry Potter</td>\n",
       "      <td>PERSON</td>\n",
       "      <td>17</td>\n",
       "      <td>65.4%</td>\n",
       "    </tr>\n",
       "    <tr>\n",
       "      <th>1</th>\n",
       "      <td>Harry Potter</td>\n",
       "      <td>WORK_OF_ART</td>\n",
       "      <td>9</td>\n",
       "      <td>34.6%</td>\n",
       "    </tr>\n",
       "    <tr>\n",
       "      <th>2</th>\n",
       "      <td>the Sorcerer's Stone CHAPTER</td>\n",
       "      <td>ORG</td>\n",
       "      <td>1</td>\n",
       "      <td>100.0%</td>\n",
       "    </tr>\n",
       "    <tr>\n",
       "      <th>3</th>\n",
       "      <td>ONE</td>\n",
       "      <td>CARDINAL</td>\n",
       "      <td>1</td>\n",
       "      <td>100.0%</td>\n",
       "    </tr>\n",
       "    <tr>\n",
       "      <th>4</th>\n",
       "      <td>Dursley</td>\n",
       "      <td>PERSON</td>\n",
       "      <td>52</td>\n",
       "      <td>100.0%</td>\n",
       "    </tr>\n",
       "  </tbody>\n",
       "</table>\n",
       "</div>"
      ],
      "text/plain": [
       "                          token       entity  count percentage\n",
       "0                  Harry Potter       PERSON     17      65.4%\n",
       "1                  Harry Potter  WORK_OF_ART      9      34.6%\n",
       "2  the Sorcerer's Stone CHAPTER          ORG      1     100.0%\n",
       "3                           ONE     CARDINAL      1     100.0%\n",
       "4                       Dursley       PERSON     52     100.0%"
      ]
     },
     "execution_count": 18,
     "metadata": {},
     "output_type": "execute_result"
    }
   ],
   "source": [
    "entity_counts = pd.read_csv('entity_counts.csv')\n",
    "entity_counts.head()"
   ]
  },
  {
   "cell_type": "markdown",
   "metadata": {},
   "source": [
    "I want to show all tokens with more than a count of 2 and show them sorted by total count, but only showing the entity that has the highest count. For tie breaking, it can just use the first."
   ]
  },
  {
   "cell_type": "code",
   "execution_count": 19,
   "metadata": {},
   "outputs": [],
   "source": [
    "# token => total count\n",
    "highest_counts = defaultdict(lambda: defaultdict(lambda: 0))\n",
    "for index, row in entity_counts.iterrows():\n",
    "    if highest_counts[row.token]['max'] >= row['count']:\n",
    "        continue\n",
    "    highest_counts[row.token]['max'] = row['count']\n",
    "    highest_counts[row.token]['entity'] = row.entity\n",
    "    highest_counts[row.token]['total'] = counts[row.token]['TOTAL']\n",
    "    highest_counts[row.token]['winning_percentage'] = row['count'] / counts[row.token]['TOTAL']\n",
    "\n",
    "\n",
    "with open('max_counts.csv', 'w') as csv_file:\n",
    "    writer = csv.writer(csv_file, delimiter=',', quotechar='\"', quoting=csv.QUOTE_MINIMAL)\n",
    "    writer.writerow(['token', 'entity', 'total', 'winning_percentage'])\n",
    "    for token, data in highest_counts.items():\n",
    "        writer.writerow([token, data['entity'], data['total'], '{:0.1f}%'.format(data['winning_percentage'] * 100)])"
   ]
  },
  {
   "cell_type": "code",
   "execution_count": 20,
   "metadata": {},
   "outputs": [
    {
     "data": {
      "text/html": [
       "<div>\n",
       "<style scoped>\n",
       "    .dataframe tbody tr th:only-of-type {\n",
       "        vertical-align: middle;\n",
       "    }\n",
       "\n",
       "    .dataframe tbody tr th {\n",
       "        vertical-align: top;\n",
       "    }\n",
       "\n",
       "    .dataframe thead th {\n",
       "        text-align: right;\n",
       "    }\n",
       "</style>\n",
       "<table border=\"1\" class=\"dataframe\">\n",
       "  <thead>\n",
       "    <tr style=\"text-align: right;\">\n",
       "      <th></th>\n",
       "      <th>token</th>\n",
       "      <th>entity</th>\n",
       "      <th>total</th>\n",
       "      <th>winning_percentage</th>\n",
       "    </tr>\n",
       "  </thead>\n",
       "  <tbody>\n",
       "    <tr>\n",
       "      <th>0</th>\n",
       "      <td>Harry Potter</td>\n",
       "      <td>PERSON</td>\n",
       "      <td>26</td>\n",
       "      <td>65.4%</td>\n",
       "    </tr>\n",
       "    <tr>\n",
       "      <th>1</th>\n",
       "      <td>the Sorcerer's Stone CHAPTER</td>\n",
       "      <td>ORG</td>\n",
       "      <td>1</td>\n",
       "      <td>100.0%</td>\n",
       "    </tr>\n",
       "    <tr>\n",
       "      <th>2</th>\n",
       "      <td>ONE</td>\n",
       "      <td>CARDINAL</td>\n",
       "      <td>1</td>\n",
       "      <td>100.0%</td>\n",
       "    </tr>\n",
       "    <tr>\n",
       "      <th>3</th>\n",
       "      <td>Dursley</td>\n",
       "      <td>PERSON</td>\n",
       "      <td>52</td>\n",
       "      <td>100.0%</td>\n",
       "    </tr>\n",
       "    <tr>\n",
       "      <th>4</th>\n",
       "      <td>four</td>\n",
       "      <td>CARDINAL</td>\n",
       "      <td>26</td>\n",
       "      <td>100.0%</td>\n",
       "    </tr>\n",
       "  </tbody>\n",
       "</table>\n",
       "</div>"
      ],
      "text/plain": [
       "                          token    entity  total winning_percentage\n",
       "0                  Harry Potter    PERSON     26              65.4%\n",
       "1  the Sorcerer's Stone CHAPTER       ORG      1             100.0%\n",
       "2                           ONE  CARDINAL      1             100.0%\n",
       "3                       Dursley    PERSON     52             100.0%\n",
       "4                          four  CARDINAL     26             100.0%"
      ]
     },
     "execution_count": 20,
     "metadata": {},
     "output_type": "execute_result"
    }
   ],
   "source": [
    "max_counts = pd.read_csv('max_counts.csv')\n",
    "max_counts.head()"
   ]
  },
  {
   "cell_type": "code",
   "execution_count": 21,
   "metadata": {},
   "outputs": [
    {
     "data": {
      "text/plain": [
       "token                 984\n",
       "entity                984\n",
       "total                 984\n",
       "winning_percentage    984\n",
       "dtype: int64"
      ]
     },
     "metadata": {},
     "output_type": "display_data"
    },
    {
     "data": {
      "text/html": [
       "<div>\n",
       "<style scoped>\n",
       "    .dataframe tbody tr th:only-of-type {\n",
       "        vertical-align: middle;\n",
       "    }\n",
       "\n",
       "    .dataframe tbody tr th {\n",
       "        vertical-align: top;\n",
       "    }\n",
       "\n",
       "    .dataframe thead th {\n",
       "        text-align: right;\n",
       "    }\n",
       "</style>\n",
       "<table border=\"1\" class=\"dataframe\">\n",
       "  <thead>\n",
       "    <tr style=\"text-align: right;\">\n",
       "      <th></th>\n",
       "      <th>token</th>\n",
       "      <th>entity</th>\n",
       "      <th>total</th>\n",
       "      <th>winning_percentage</th>\n",
       "    </tr>\n",
       "  </thead>\n",
       "  <tbody>\n",
       "    <tr>\n",
       "      <th>22</th>\n",
       "      <td>Harry</td>\n",
       "      <td>PERSON</td>\n",
       "      <td>1284</td>\n",
       "      <td>99.1%</td>\n",
       "    </tr>\n",
       "    <tr>\n",
       "      <th>393</th>\n",
       "      <td>Ron</td>\n",
       "      <td>PERSON</td>\n",
       "      <td>426</td>\n",
       "      <td>100.0%</td>\n",
       "    </tr>\n",
       "    <tr>\n",
       "      <th>74</th>\n",
       "      <td>Hagrid</td>\n",
       "      <td>PERSON</td>\n",
       "      <td>363</td>\n",
       "      <td>74.7%</td>\n",
       "    </tr>\n",
       "    <tr>\n",
       "      <th>447</th>\n",
       "      <td>Hermione</td>\n",
       "      <td>PERSON</td>\n",
       "      <td>252</td>\n",
       "      <td>99.2%</td>\n",
       "    </tr>\n",
       "    <tr>\n",
       "      <th>533</th>\n",
       "      <td>Snape</td>\n",
       "      <td>PERSON</td>\n",
       "      <td>170</td>\n",
       "      <td>100.0%</td>\n",
       "    </tr>\n",
       "    <tr>\n",
       "      <th>8</th>\n",
       "      <td>Dudley</td>\n",
       "      <td>PERSON</td>\n",
       "      <td>136</td>\n",
       "      <td>75.0%</td>\n",
       "    </tr>\n",
       "    <tr>\n",
       "      <th>61</th>\n",
       "      <td>Dumbledore</td>\n",
       "      <td>PERSON</td>\n",
       "      <td>122</td>\n",
       "      <td>92.6%</td>\n",
       "    </tr>\n",
       "    <tr>\n",
       "      <th>397</th>\n",
       "      <td>Neville</td>\n",
       "      <td>PERSON</td>\n",
       "      <td>115</td>\n",
       "      <td>60.0%</td>\n",
       "    </tr>\n",
       "    <tr>\n",
       "      <th>457</th>\n",
       "      <td>Malfoy</td>\n",
       "      <td>ORG</td>\n",
       "      <td>112</td>\n",
       "      <td>92.9%</td>\n",
       "    </tr>\n",
       "    <tr>\n",
       "      <th>302</th>\n",
       "      <td>Quirrell</td>\n",
       "      <td>ORG</td>\n",
       "      <td>111</td>\n",
       "      <td>82.0%</td>\n",
       "    </tr>\n",
       "    <tr>\n",
       "      <th>55</th>\n",
       "      <td>one</td>\n",
       "      <td>CARDINAL</td>\n",
       "      <td>87</td>\n",
       "      <td>100.0%</td>\n",
       "    </tr>\n",
       "    <tr>\n",
       "      <th>99</th>\n",
       "      <td>Uncle Vernon</td>\n",
       "      <td>PERSON</td>\n",
       "      <td>79</td>\n",
       "      <td>91.1%</td>\n",
       "    </tr>\n",
       "    <tr>\n",
       "      <th>449</th>\n",
       "      <td>Gryffindor</td>\n",
       "      <td>PERSON</td>\n",
       "      <td>76</td>\n",
       "      <td>100.0%</td>\n",
       "    </tr>\n",
       "    <tr>\n",
       "      <th>15</th>\n",
       "      <td>first</td>\n",
       "      <td>ORDINAL</td>\n",
       "      <td>73</td>\n",
       "      <td>100.0%</td>\n",
       "    </tr>\n",
       "    <tr>\n",
       "      <th>217</th>\n",
       "      <td>Hogwarts</td>\n",
       "      <td>PERSON</td>\n",
       "      <td>67</td>\n",
       "      <td>89.6%</td>\n",
       "    </tr>\n",
       "    <tr>\n",
       "      <th>45</th>\n",
       "      <td>two</td>\n",
       "      <td>CARDINAL</td>\n",
       "      <td>60</td>\n",
       "      <td>100.0%</td>\n",
       "    </tr>\n",
       "    <tr>\n",
       "      <th>59</th>\n",
       "      <td>McGonagall</td>\n",
       "      <td>PERSON</td>\n",
       "      <td>58</td>\n",
       "      <td>100.0%</td>\n",
       "    </tr>\n",
       "    <tr>\n",
       "      <th>3</th>\n",
       "      <td>Dursley</td>\n",
       "      <td>PERSON</td>\n",
       "      <td>52</td>\n",
       "      <td>100.0%</td>\n",
       "    </tr>\n",
       "    <tr>\n",
       "      <th>332</th>\n",
       "      <td>Quidditch</td>\n",
       "      <td>PERSON</td>\n",
       "      <td>51</td>\n",
       "      <td>86.3%</td>\n",
       "    </tr>\n",
       "    <tr>\n",
       "      <th>7</th>\n",
       "      <td>Dursleys</td>\n",
       "      <td>PERSON</td>\n",
       "      <td>50</td>\n",
       "      <td>100.0%</td>\n",
       "    </tr>\n",
       "  </tbody>\n",
       "</table>\n",
       "</div>"
      ],
      "text/plain": [
       "            token    entity  total winning_percentage\n",
       "22          Harry    PERSON   1284              99.1%\n",
       "393           Ron    PERSON    426             100.0%\n",
       "74         Hagrid    PERSON    363              74.7%\n",
       "447      Hermione    PERSON    252              99.2%\n",
       "533         Snape    PERSON    170             100.0%\n",
       "8          Dudley    PERSON    136              75.0%\n",
       "61     Dumbledore    PERSON    122              92.6%\n",
       "397       Neville    PERSON    115              60.0%\n",
       "457        Malfoy       ORG    112              92.9%\n",
       "302      Quirrell       ORG    111              82.0%\n",
       "55            one  CARDINAL     87             100.0%\n",
       "99   Uncle Vernon    PERSON     79              91.1%\n",
       "449    Gryffindor    PERSON     76             100.0%\n",
       "15          first   ORDINAL     73             100.0%\n",
       "217      Hogwarts    PERSON     67              89.6%\n",
       "45            two  CARDINAL     60             100.0%\n",
       "59     McGonagall    PERSON     58             100.0%\n",
       "3         Dursley    PERSON     52             100.0%\n",
       "332     Quidditch    PERSON     51              86.3%\n",
       "7        Dursleys    PERSON     50             100.0%"
      ]
     },
     "metadata": {},
     "output_type": "display_data"
    }
   ],
   "source": [
    "sorted_max_counts = max_counts.sort_values(by=['total'], ascending=False)\n",
    "display(sorted_max_counts.count())\n",
    "display(sorted_max_counts.head(n=20))"
   ]
  },
  {
   "cell_type": "code",
   "execution_count": 22,
   "metadata": {},
   "outputs": [
    {
     "name": "stdout",
     "output_type": "stream",
     "text": [
      "Tokens with count > 2: 214\n"
     ]
    }
   ],
   "source": [
    "print('Tokens with count > 2: {}'.format(len(sorted_max_counts[sorted_max_counts.total > 2])))"
   ]
  },
  {
   "cell_type": "markdown",
   "metadata": {},
   "source": [
    "Even in the first 20, there are errors: \"Malfoy\" and \"Quirrell\" are labeled `ORG` for the majority of cases. \"Gryffindor\" is labeled as a person most of the time, when it would actually probably more appropriately labeled `ORG`. Hogwarts is labeled `PERSON`, but is definitely more of an `ORG`. Quidditch is labeled `PERSON`, but should be "
   ]
  },
  {
   "cell_type": "code",
   "execution_count": null,
   "metadata": {},
   "outputs": [],
   "source": []
  }
 ],
 "metadata": {
  "kernelspec": {
   "display_name": "Python 3",
   "language": "python",
   "name": "python3"
  },
  "language_info": {
   "codemirror_mode": {
    "name": "ipython",
    "version": 3
   },
   "file_extension": ".py",
   "mimetype": "text/x-python",
   "name": "python",
   "nbconvert_exporter": "python",
   "pygments_lexer": "ipython3",
   "version": "3.6.5"
  }
 },
 "nbformat": 4,
 "nbformat_minor": 2
}
